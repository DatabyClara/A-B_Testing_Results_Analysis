{
 "cells": [
  {
   "cell_type": "markdown",
   "metadata": {},
   "source": [
    "# A/B Testing Results Analysis\n",
    "This project analyzes A/B test results to evaluate customer behavior and identify trends using statistical methods and data visualization. Key steps include hypothesis prioritization (ICE/RICE frameworks), exploratory data analysis (EDA), and calculating conversion rates, order sizes, and anomalies to draw actionable insights for decision-making. **The Datasets are available in the 'data' folder of this repository** for reference and analysis. For additional information, please refer to the documentation or reach out."
   ]
  },
  {
   "cell_type": "markdown",
   "metadata": {},
   "source": [
    "Index\n",
    "1. Data Dictionary\n",
    "2. Importing Data\n",
    "3. Data Preprocessing\n",
    "    - df_hypotheses_us\n",
    "        - Verifying Missing Values (None Found)\n",
    "        - Verifying Duplicates (None Found)\n",
    "    - df_orders_us\n",
    "        - Verifying Missing Values (None Found)\n",
    "        - Verifying Duplicates (None Found)\n",
    "    - df_visits_us\n",
    "        - Verifying Missing Values (None Found)\n",
    "        - Verifying Duplicates (None Found)\n",
    "4. Hypothesis Prioritization\n",
    "    - ICE Framework\n",
    "    - RICE Framework\n",
    "5. A/B Testing Results\n",
    "    1. Cumulative Revenue by Group Visualization\n",
    "    2. Average Cumulative Order Size by Group Visualization\n",
    "    3. Relative Difference in Average Cumulative Order Size\n",
    "    4. Conversion Rate Calculation (Orders-to-Visits Ratio & Daily Conversion Rates)\n",
    "    5. Relative Difference in Cumulative Conversion Between Groups A and B\n",
    "    6. 95th and 99th Percentiles of Orders per User & Anomaly Detection Threshold\n",
    "    7. Order Price Distribution (Scatter Plot)\n",
    "    8. 95th and 99th Percentiles of Order Prices & Anomaly Detection Threshold\n",
    "    9. Statistical Significance of Conversion Rate Difference (Raw Data)\n",
    "    10. Statistical Significance of Average Order Size Difference (Raw Data)\n",
    "    11. Statistical Significance of Conversion Rate Difference (Filtered Data)\n",
    "    12. Statistical Significance of Average Order Size Difference (Filtered Data)\n",
    "    13. Test Results and Decision Making\n"
   ]
  },
  {
   "cell_type": "markdown",
   "metadata": {},
   "source": [
    "### 1. Data Dictionary:\n",
    "- **hypotheses_us**:\n",
    "  - **Hypotheses** — Brief descriptions of the hypotheses\n",
    "  - **Reach** — User reach, on a scale from 1 to 10\n",
    "  - **Impact** — Impact on users, on a scale from 1 to 10\n",
    "  - **Confidence** —  Confidence in the hypothesis, on a scale from 1 to 10\n",
    "  - **Effort** — Resources required to test a hypothesis, on a scale from 1 to 10. The higher the Effort value, the more resources are needed for the test\n",
    "  \n",
    "- **orders_us**:\n",
    "  - **transactionId** — Order identifier\n",
    "  - **visitorId** — Identifier of the user who placed the order\n",
    "  - **date** — Order date\n",
    "  - **revenue** — Revenue from the order\n",
    "  - **group** — The A/B test group to which the user belongs\n",
    "\n",
    "- **visits_us**:\n",
    "  - **date** — Date\n",
    "  - **group** —  A/B test group\n",
    "  - **visits** — Number of visits on the specified date for the specified A/B test group"
   ]
  },
  {
   "cell_type": "code",
   "execution_count": 2,
   "metadata": {},
   "outputs": [],
   "source": [
    "# Import libraries\n",
    "import pandas as pd\n",
    "import numpy as np\n",
    "import datetime as dt\n",
    "\n",
    "import matplotlib.pyplot as plt\n",
    "import seaborn as sns\n",
    "import scipy.stats as stats\n",
    "\n",
    "plt.style.use('seaborn-v0_8-deep')"
   ]
  },
  {
   "cell_type": "markdown",
   "metadata": {},
   "source": [
    "### 2. Importing Data"
   ]
  },
  {
   "cell_type": "code",
   "execution_count": 3,
   "metadata": {},
   "outputs": [],
   "source": [
    "# Defining the file path\n",
    "path = 'data\\\\'\n",
    "\n",
    "# Loading the 'hypotheses_us.csv' file into the DataFrame\n",
    "df_hypotheses_us = pd.read_csv(path + 'hypotheses_us.csv', sep=';')\n",
    "\n",
    "# Loading the 'orders_us.csv' file into the DataFrame\n",
    "df_orders_us = pd.read_csv(path + 'orders_us.csv')\n",
    "\n",
    "# Loading the 'visits_us.csv' file into the DataFrame\n",
    "df_visits_us = pd.read_csv(path + 'visits_us.csv')"
   ]
  },
  {
   "cell_type": "markdown",
   "metadata": {},
   "source": [
    "### 3. Data Cleaning and Preprocessing  \n",
    "In this step, each dataframe (df) will be reviewed individually to understand its structure. This includes verifying column names, checking for null values, identifying duplicates, and ensuring the correct data types for each dataframe."
   ]
  },
  {
   "cell_type": "markdown",
   "metadata": {},
   "source": [
    "##### **df_hypotheses_us**"
   ]
  },
  {
   "cell_type": "code",
   "execution_count": 4,
   "metadata": {},
   "outputs": [
    {
     "data": {
      "text/html": [
       "<div>\n",
       "<style scoped>\n",
       "    .dataframe tbody tr th:only-of-type {\n",
       "        vertical-align: middle;\n",
       "    }\n",
       "\n",
       "    .dataframe tbody tr th {\n",
       "        vertical-align: top;\n",
       "    }\n",
       "\n",
       "    .dataframe thead th {\n",
       "        text-align: right;\n",
       "    }\n",
       "</style>\n",
       "<table border=\"1\" class=\"dataframe\">\n",
       "  <thead>\n",
       "    <tr style=\"text-align: right;\">\n",
       "      <th></th>\n",
       "      <th>Hypothesis</th>\n",
       "      <th>Reach</th>\n",
       "      <th>Impact</th>\n",
       "      <th>Confidence</th>\n",
       "      <th>Effort</th>\n",
       "    </tr>\n",
       "  </thead>\n",
       "  <tbody>\n",
       "    <tr>\n",
       "      <th>0</th>\n",
       "      <td>Add two new channels for attracting traffic. T...</td>\n",
       "      <td>3</td>\n",
       "      <td>10</td>\n",
       "      <td>8</td>\n",
       "      <td>6</td>\n",
       "    </tr>\n",
       "    <tr>\n",
       "      <th>1</th>\n",
       "      <td>Launch your own delivery service. This will sh...</td>\n",
       "      <td>2</td>\n",
       "      <td>5</td>\n",
       "      <td>4</td>\n",
       "      <td>10</td>\n",
       "    </tr>\n",
       "    <tr>\n",
       "      <th>2</th>\n",
       "      <td>Add product recommendation blocks to the store...</td>\n",
       "      <td>8</td>\n",
       "      <td>3</td>\n",
       "      <td>7</td>\n",
       "      <td>3</td>\n",
       "    </tr>\n",
       "    <tr>\n",
       "      <th>3</th>\n",
       "      <td>Change the category structure. This will incre...</td>\n",
       "      <td>8</td>\n",
       "      <td>3</td>\n",
       "      <td>3</td>\n",
       "      <td>8</td>\n",
       "    </tr>\n",
       "    <tr>\n",
       "      <th>4</th>\n",
       "      <td>Change the background color on the main page. ...</td>\n",
       "      <td>3</td>\n",
       "      <td>1</td>\n",
       "      <td>1</td>\n",
       "      <td>1</td>\n",
       "    </tr>\n",
       "  </tbody>\n",
       "</table>\n",
       "</div>"
      ],
      "text/plain": [
       "                                          Hypothesis  Reach  Impact  \\\n",
       "0  Add two new channels for attracting traffic. T...      3      10   \n",
       "1  Launch your own delivery service. This will sh...      2       5   \n",
       "2  Add product recommendation blocks to the store...      8       3   \n",
       "3  Change the category structure. This will incre...      8       3   \n",
       "4  Change the background color on the main page. ...      3       1   \n",
       "\n",
       "   Confidence  Effort  \n",
       "0           8       6  \n",
       "1           4      10  \n",
       "2           7       3  \n",
       "3           3       8  \n",
       "4           1       1  "
      ]
     },
     "execution_count": 4,
     "metadata": {},
     "output_type": "execute_result"
    }
   ],
   "source": [
    "# Displaying the first 5 rows of the dataset to check if it loaded correctly\n",
    "df_hypotheses_us.head()"
   ]
  },
  {
   "cell_type": "code",
   "execution_count": 5,
   "metadata": {},
   "outputs": [
    {
     "name": "stdout",
     "output_type": "stream",
     "text": [
      "<class 'pandas.core.frame.DataFrame'>\n",
      "RangeIndex: 9 entries, 0 to 8\n",
      "Data columns (total 5 columns):\n",
      " #   Column      Non-Null Count  Dtype \n",
      "---  ------      --------------  ----- \n",
      " 0   Hypothesis  9 non-null      object\n",
      " 1   Reach       9 non-null      int64 \n",
      " 2   Impact      9 non-null      int64 \n",
      " 3   Confidence  9 non-null      int64 \n",
      " 4   Effort      9 non-null      int64 \n",
      "dtypes: int64(4), object(1)\n",
      "memory usage: 492.0+ bytes\n"
     ]
    }
   ],
   "source": [
    "# Displaying information about the DataFrame\n",
    "df_hypotheses_us.info()"
   ]
  },
  {
   "cell_type": "code",
   "execution_count": 6,
   "metadata": {},
   "outputs": [
    {
     "name": "stdout",
     "output_type": "stream",
     "text": [
      "<class 'pandas.core.frame.DataFrame'>\n",
      "RangeIndex: 9 entries, 0 to 8\n",
      "Data columns (total 5 columns):\n",
      " #   Column      Non-Null Count  Dtype \n",
      "---  ------      --------------  ----- \n",
      " 0   hypothesis  9 non-null      object\n",
      " 1   reach       9 non-null      int64 \n",
      " 2   impact      9 non-null      int64 \n",
      " 3   confidence  9 non-null      int64 \n",
      " 4   effort      9 non-null      int64 \n",
      "dtypes: int64(4), object(1)\n",
      "memory usage: 492.0+ bytes\n"
     ]
    }
   ],
   "source": [
    "# Standardizing column names\n",
    "df_hypotheses_us.columns = df_hypotheses_us.columns.str.strip().str.lower().str.replace(' ', '_')\n",
    "\n",
    "# Verifying changes\n",
    "df_hypotheses_us.info()"
   ]
  },
  {
   "cell_type": "code",
   "execution_count": 7,
   "metadata": {},
   "outputs": [
    {
     "name": "stdout",
     "output_type": "stream",
     "text": [
      "Duplicate rows: 0\n"
     ]
    }
   ],
   "source": [
    "# Checking for duplicate rows in df_orders_us\n",
    "print(\"Duplicate rows:\", df_hypotheses_us.duplicated().sum())"
   ]
  },
  {
   "cell_type": "markdown",
   "metadata": {},
   "source": [
    "**Conclusions**:\n",
    "- It was observed that the separators were not standardized. Therefore, the first step was to standardize them during the data loading stage. Next, column names were standardized to snake_case, with no missing or duplicate values found, and data types confirmed as correct."
   ]
  },
  {
   "cell_type": "markdown",
   "metadata": {},
   "source": [
    "##### **df_orders_us**"
   ]
  },
  {
   "cell_type": "code",
   "execution_count": 8,
   "metadata": {},
   "outputs": [
    {
     "data": {
      "text/html": [
       "<div>\n",
       "<style scoped>\n",
       "    .dataframe tbody tr th:only-of-type {\n",
       "        vertical-align: middle;\n",
       "    }\n",
       "\n",
       "    .dataframe tbody tr th {\n",
       "        vertical-align: top;\n",
       "    }\n",
       "\n",
       "    .dataframe thead th {\n",
       "        text-align: right;\n",
       "    }\n",
       "</style>\n",
       "<table border=\"1\" class=\"dataframe\">\n",
       "  <thead>\n",
       "    <tr style=\"text-align: right;\">\n",
       "      <th></th>\n",
       "      <th>transactionId</th>\n",
       "      <th>visitorId</th>\n",
       "      <th>date</th>\n",
       "      <th>revenue</th>\n",
       "      <th>group</th>\n",
       "    </tr>\n",
       "  </thead>\n",
       "  <tbody>\n",
       "    <tr>\n",
       "      <th>0</th>\n",
       "      <td>3667963787</td>\n",
       "      <td>3312258926</td>\n",
       "      <td>2019-08-15</td>\n",
       "      <td>30.4</td>\n",
       "      <td>B</td>\n",
       "    </tr>\n",
       "    <tr>\n",
       "      <th>1</th>\n",
       "      <td>2804400009</td>\n",
       "      <td>3642806036</td>\n",
       "      <td>2019-08-15</td>\n",
       "      <td>15.2</td>\n",
       "      <td>B</td>\n",
       "    </tr>\n",
       "    <tr>\n",
       "      <th>2</th>\n",
       "      <td>2961555356</td>\n",
       "      <td>4069496402</td>\n",
       "      <td>2019-08-15</td>\n",
       "      <td>10.2</td>\n",
       "      <td>A</td>\n",
       "    </tr>\n",
       "    <tr>\n",
       "      <th>3</th>\n",
       "      <td>3797467345</td>\n",
       "      <td>1196621759</td>\n",
       "      <td>2019-08-15</td>\n",
       "      <td>155.1</td>\n",
       "      <td>B</td>\n",
       "    </tr>\n",
       "    <tr>\n",
       "      <th>4</th>\n",
       "      <td>2282983706</td>\n",
       "      <td>2322279887</td>\n",
       "      <td>2019-08-15</td>\n",
       "      <td>40.5</td>\n",
       "      <td>B</td>\n",
       "    </tr>\n",
       "  </tbody>\n",
       "</table>\n",
       "</div>"
      ],
      "text/plain": [
       "   transactionId   visitorId        date  revenue group\n",
       "0     3667963787  3312258926  2019-08-15     30.4     B\n",
       "1     2804400009  3642806036  2019-08-15     15.2     B\n",
       "2     2961555356  4069496402  2019-08-15     10.2     A\n",
       "3     3797467345  1196621759  2019-08-15    155.1     B\n",
       "4     2282983706  2322279887  2019-08-15     40.5     B"
      ]
     },
     "execution_count": 8,
     "metadata": {},
     "output_type": "execute_result"
    }
   ],
   "source": [
    "# Printing the first rows of the DataFrame\n",
    "df_orders_us.head()"
   ]
  },
  {
   "cell_type": "code",
   "execution_count": 9,
   "metadata": {},
   "outputs": [
    {
     "name": "stdout",
     "output_type": "stream",
     "text": [
      "<class 'pandas.core.frame.DataFrame'>\n",
      "RangeIndex: 1197 entries, 0 to 1196\n",
      "Data columns (total 5 columns):\n",
      " #   Column         Non-Null Count  Dtype  \n",
      "---  ------         --------------  -----  \n",
      " 0   transactionId  1197 non-null   int64  \n",
      " 1   visitorId      1197 non-null   int64  \n",
      " 2   date           1197 non-null   object \n",
      " 3   revenue        1197 non-null   float64\n",
      " 4   group          1197 non-null   object \n",
      "dtypes: float64(1), int64(2), object(2)\n",
      "memory usage: 46.9+ KB\n"
     ]
    }
   ],
   "source": [
    "# Printing information about the DataFrame\n",
    "df_orders_us.info()"
   ]
  },
  {
   "cell_type": "code",
   "execution_count": 10,
   "metadata": {},
   "outputs": [
    {
     "name": "stdout",
     "output_type": "stream",
     "text": [
      "<class 'pandas.core.frame.DataFrame'>\n",
      "RangeIndex: 1197 entries, 0 to 1196\n",
      "Data columns (total 5 columns):\n",
      " #   Column         Non-Null Count  Dtype  \n",
      "---  ------         --------------  -----  \n",
      " 0   transactionid  1197 non-null   int64  \n",
      " 1   visitorid      1197 non-null   int64  \n",
      " 2   date           1197 non-null   object \n",
      " 3   revenue        1197 non-null   float64\n",
      " 4   group          1197 non-null   object \n",
      "dtypes: float64(1), int64(2), object(2)\n",
      "memory usage: 46.9+ KB\n"
     ]
    }
   ],
   "source": [
    "# Standardizing column names\n",
    "df_orders_us.columns = df_orders_us.columns.str.strip().str.lower().str.replace(' ', '_')\n",
    "\n",
    "# Verifying changes\n",
    "df_orders_us.info()"
   ]
  },
  {
   "cell_type": "code",
   "execution_count": 11,
   "metadata": {},
   "outputs": [
    {
     "name": "stdout",
     "output_type": "stream",
     "text": [
      "Duplicate rows: 0\n"
     ]
    }
   ],
   "source": [
    "# Checking for duplicate rows\n",
    "print(\"Duplicate rows:\", df_orders_us.duplicated().sum())"
   ]
  },
  {
   "cell_type": "code",
   "execution_count": 12,
   "metadata": {},
   "outputs": [
    {
     "name": "stdout",
     "output_type": "stream",
     "text": [
      "<class 'pandas.core.frame.DataFrame'>\n",
      "RangeIndex: 1197 entries, 0 to 1196\n",
      "Data columns (total 5 columns):\n",
      " #   Column         Non-Null Count  Dtype         \n",
      "---  ------         --------------  -----         \n",
      " 0   transactionid  1197 non-null   int64         \n",
      " 1   visitorid      1197 non-null   int64         \n",
      " 2   date           1197 non-null   datetime64[ns]\n",
      " 3   revenue        1197 non-null   float64       \n",
      " 4   group          1197 non-null   object        \n",
      "dtypes: datetime64[ns](1), float64(1), int64(2), object(1)\n",
      "memory usage: 46.9+ KB\n"
     ]
    }
   ],
   "source": [
    "# Converting 'date' column to datetime\n",
    "df_orders_us['date'] = df_orders_us['date'].map(lambda x: dt.datetime.strptime(x, '%Y-%m-%d'))\n",
    "\n",
    "# Verifying changes\n",
    "df_orders_us.info()"
   ]
  },
  {
   "cell_type": "markdown",
   "metadata": {},
   "source": [
    "**Conclusions**: \n",
    "- The first column name was not in the standard format, so all column names were standardized to snake_case. Additionally, no missing or duplicate values were found, and data types were correct, except for the 'date' column, which was converted to datetime."
   ]
  },
  {
   "cell_type": "markdown",
   "metadata": {},
   "source": [
    "##### **df_visits_us**"
   ]
  },
  {
   "cell_type": "code",
   "execution_count": 13,
   "metadata": {},
   "outputs": [
    {
     "data": {
      "text/html": [
       "<div>\n",
       "<style scoped>\n",
       "    .dataframe tbody tr th:only-of-type {\n",
       "        vertical-align: middle;\n",
       "    }\n",
       "\n",
       "    .dataframe tbody tr th {\n",
       "        vertical-align: top;\n",
       "    }\n",
       "\n",
       "    .dataframe thead th {\n",
       "        text-align: right;\n",
       "    }\n",
       "</style>\n",
       "<table border=\"1\" class=\"dataframe\">\n",
       "  <thead>\n",
       "    <tr style=\"text-align: right;\">\n",
       "      <th></th>\n",
       "      <th>date</th>\n",
       "      <th>group</th>\n",
       "      <th>visits</th>\n",
       "    </tr>\n",
       "  </thead>\n",
       "  <tbody>\n",
       "    <tr>\n",
       "      <th>0</th>\n",
       "      <td>2019-08-01</td>\n",
       "      <td>A</td>\n",
       "      <td>719</td>\n",
       "    </tr>\n",
       "    <tr>\n",
       "      <th>1</th>\n",
       "      <td>2019-08-02</td>\n",
       "      <td>A</td>\n",
       "      <td>619</td>\n",
       "    </tr>\n",
       "    <tr>\n",
       "      <th>2</th>\n",
       "      <td>2019-08-03</td>\n",
       "      <td>A</td>\n",
       "      <td>507</td>\n",
       "    </tr>\n",
       "    <tr>\n",
       "      <th>3</th>\n",
       "      <td>2019-08-04</td>\n",
       "      <td>A</td>\n",
       "      <td>717</td>\n",
       "    </tr>\n",
       "    <tr>\n",
       "      <th>4</th>\n",
       "      <td>2019-08-05</td>\n",
       "      <td>A</td>\n",
       "      <td>756</td>\n",
       "    </tr>\n",
       "  </tbody>\n",
       "</table>\n",
       "</div>"
      ],
      "text/plain": [
       "         date group  visits\n",
       "0  2019-08-01     A     719\n",
       "1  2019-08-02     A     619\n",
       "2  2019-08-03     A     507\n",
       "3  2019-08-04     A     717\n",
       "4  2019-08-05     A     756"
      ]
     },
     "execution_count": 13,
     "metadata": {},
     "output_type": "execute_result"
    }
   ],
   "source": [
    "# Printing the first rows of the DataFrame\n",
    "df_visits_us.head()"
   ]
  },
  {
   "cell_type": "code",
   "execution_count": 14,
   "metadata": {},
   "outputs": [
    {
     "name": "stdout",
     "output_type": "stream",
     "text": [
      "<class 'pandas.core.frame.DataFrame'>\n",
      "RangeIndex: 62 entries, 0 to 61\n",
      "Data columns (total 3 columns):\n",
      " #   Column  Non-Null Count  Dtype \n",
      "---  ------  --------------  ----- \n",
      " 0   date    62 non-null     object\n",
      " 1   group   62 non-null     object\n",
      " 2   visits  62 non-null     int64 \n",
      "dtypes: int64(1), object(2)\n",
      "memory usage: 1.6+ KB\n"
     ]
    }
   ],
   "source": [
    "# Printing information about the DataFrame\n",
    "df_visits_us.info()"
   ]
  },
  {
   "cell_type": "code",
   "execution_count": 15,
   "metadata": {},
   "outputs": [
    {
     "name": "stdout",
     "output_type": "stream",
     "text": [
      "Duplicate rows: 0\n"
     ]
    }
   ],
   "source": [
    "# Checking for duplicate rows\n",
    "print(\"Duplicate rows:\", df_orders_us.duplicated().sum())"
   ]
  },
  {
   "cell_type": "code",
   "execution_count": 16,
   "metadata": {},
   "outputs": [
    {
     "name": "stdout",
     "output_type": "stream",
     "text": [
      "<class 'pandas.core.frame.DataFrame'>\n",
      "RangeIndex: 62 entries, 0 to 61\n",
      "Data columns (total 3 columns):\n",
      " #   Column  Non-Null Count  Dtype         \n",
      "---  ------  --------------  -----         \n",
      " 0   date    62 non-null     datetime64[ns]\n",
      " 1   group   62 non-null     object        \n",
      " 2   visits  62 non-null     int64         \n",
      "dtypes: datetime64[ns](1), int64(1), object(1)\n",
      "memory usage: 1.6+ KB\n"
     ]
    }
   ],
   "source": [
    "# Converting 'date' column to datetime\n",
    "df_visits_us['date'] = df_visits_us['date'].map(lambda x: dt.datetime.strptime(x, '%Y-%m-%d'))\n",
    "\n",
    "# Verifying changes\n",
    "df_visits_us.info()"
   ]
  },
  {
   "cell_type": "markdown",
   "metadata": {},
   "source": [
    "**Conclusions**: \n",
    "- It was observed that the column names were already in the standard format. Additionally, no missing or duplicate values were found, and the data types appear to be correct, except for the 'date' column, which was converted to the datetime type."
   ]
  },
  {
   "cell_type": "markdown",
   "metadata": {},
   "source": [
    "### 4. Application of ICE and RICE Frameworks to Prioritizing Hypotheses\n",
    "To demonstrate my ability to apply different prioritization methods, I used both the ICE (Impact, Confidence, Effort) and RICE (Reach, Impact, Confidence, Effort) frameworks to prioritize hypotheses."
   ]
  },
  {
   "cell_type": "code",
   "execution_count": 17,
   "metadata": {},
   "outputs": [
    {
     "data": {
      "text/html": [
       "<div>\n",
       "<style scoped>\n",
       "    .dataframe tbody tr th:only-of-type {\n",
       "        vertical-align: middle;\n",
       "    }\n",
       "\n",
       "    .dataframe tbody tr th {\n",
       "        vertical-align: top;\n",
       "    }\n",
       "\n",
       "    .dataframe thead th {\n",
       "        text-align: right;\n",
       "    }\n",
       "</style>\n",
       "<table border=\"1\" class=\"dataframe\">\n",
       "  <thead>\n",
       "    <tr style=\"text-align: right;\">\n",
       "      <th></th>\n",
       "      <th>hypothesis</th>\n",
       "      <th>reach</th>\n",
       "      <th>impact</th>\n",
       "      <th>confidence</th>\n",
       "      <th>effort</th>\n",
       "    </tr>\n",
       "  </thead>\n",
       "  <tbody>\n",
       "    <tr>\n",
       "      <th>6</th>\n",
       "      <td>Show banners with current offers and sales on ...</td>\n",
       "      <td>5</td>\n",
       "      <td>3</td>\n",
       "      <td>8</td>\n",
       "      <td>3</td>\n",
       "    </tr>\n",
       "    <tr>\n",
       "      <th>1</th>\n",
       "      <td>Launch your own delivery service. This will sh...</td>\n",
       "      <td>2</td>\n",
       "      <td>5</td>\n",
       "      <td>4</td>\n",
       "      <td>10</td>\n",
       "    </tr>\n",
       "    <tr>\n",
       "      <th>5</th>\n",
       "      <td>Add a customer review page. This will increase...</td>\n",
       "      <td>3</td>\n",
       "      <td>2</td>\n",
       "      <td>2</td>\n",
       "      <td>3</td>\n",
       "    </tr>\n",
       "  </tbody>\n",
       "</table>\n",
       "</div>"
      ],
      "text/plain": [
       "                                          hypothesis  reach  impact  \\\n",
       "6  Show banners with current offers and sales on ...      5       3   \n",
       "1  Launch your own delivery service. This will sh...      2       5   \n",
       "5  Add a customer review page. This will increase...      3       2   \n",
       "\n",
       "   confidence  effort  \n",
       "6           8       3  \n",
       "1           4      10  \n",
       "5           2       3  "
      ]
     },
     "execution_count": 17,
     "metadata": {},
     "output_type": "execute_result"
    }
   ],
   "source": [
    "# Printing 03 rows of the DataFrame\n",
    "df_hypotheses_us.sample(3)"
   ]
  },
  {
   "cell_type": "markdown",
   "metadata": {},
   "source": [
    "1. **ICE Framework**:\n",
    "The ICE framework was applied first to quickly assess the potential impact, confidence, and effort of implementation for each hypothesis. Each hypothesis was scored based on these three factors. This gave a simple prioritization of hypotheses."
   ]
  },
  {
   "cell_type": "code",
   "execution_count": 18,
   "metadata": {},
   "outputs": [
    {
     "name": "stdout",
     "output_type": "stream",
     "text": [
      "                                          hypothesis    ICE\n",
      "8  Launch a promotion that gives users discounts ...  16.20\n",
      "0  Add two new channels for attracting traffic. T...  13.33\n",
      "7  Add a subscription form to all the main pages....  11.20\n",
      "6  Show banners with current offers and sales on ...   8.00\n",
      "2  Add product recommendation blocks to the store...   7.00\n",
      "1  Launch your own delivery service. This will sh...   2.00\n",
      "5  Add a customer review page. This will increase...   1.33\n",
      "3  Change the category structure. This will incre...   1.12\n",
      "4  Change the background color on the main page. ...   1.00\n"
     ]
    }
   ],
   "source": [
    "# Applying the ICE framework to prioritize hypotheses in descending order\n",
    "\n",
    "# Creating a new \"ICE\" column with the formula ICE \n",
    "df_hypotheses_us['ICE'] = ((df_hypotheses_us['impact'] * df_hypotheses_us['confidence']) / df_hypotheses_us['effort']).round(2)\n",
    "\n",
    "# Displaying the DataFrame with sorted hypotheses\n",
    "print(df_hypotheses_us[['hypothesis', 'ICE']].sort_values(by='ICE', ascending=False))"
   ]
  },
  {
   "cell_type": "markdown",
   "metadata": {},
   "source": [
    "2. **RICE Framework**:\n",
    "After applying ICE, I used the RICE framework for a more detailed analysis, adding Reach as additional criteria. The RICE score was calculated by considering the reach (number of people affected), impact, confidence, and effort required for implementation."
   ]
  },
  {
   "cell_type": "code",
   "execution_count": 19,
   "metadata": {},
   "outputs": [
    {
     "name": "stdout",
     "output_type": "stream",
     "text": [
      "                                          hypothesis   RICE\n",
      "7  Add a subscription form to all the main pages....  112.0\n",
      "2  Add product recommendation blocks to the store...   56.0\n",
      "0  Add two new channels for attracting traffic. T...   40.0\n",
      "6  Show banners with current offers and sales on ...   40.0\n",
      "8  Launch a promotion that gives users discounts ...   16.2\n",
      "3  Change the category structure. This will incre...    9.0\n",
      "1  Launch your own delivery service. This will sh...    4.0\n",
      "5  Add a customer review page. This will increase...    4.0\n",
      "4  Change the background color on the main page. ...    3.0\n"
     ]
    }
   ],
   "source": [
    "# Applying the ICE framework to prioritize hypotheses in descending order\n",
    "\n",
    "## Creating a new \"RICE\" column with the formula RICE\n",
    "df_hypotheses_us['RICE'] = (df_hypotheses_us['reach'] * df_hypotheses_us['impact'] * df_hypotheses_us['confidence']) / df_hypotheses_us['effort']\n",
    "\n",
    "# Displaying the DataFrame with sorted hypotheses\n",
    "print(df_hypotheses_us[['hypothesis', 'RICE']].sort_values(by = 'RICE', ascending= False))"
   ]
  },
  {
   "cell_type": "code",
   "execution_count": 23,
   "metadata": {},
   "outputs": [
    {
     "name": "stdout",
     "output_type": "stream",
     "text": [
      "The chosen hypothesis is: ['Add a subscription form to all the main pages. This will help you compile a mailing list']\n"
     ]
    }
   ],
   "source": [
    "prior_hip_rice = df_hypotheses_us[['hypothesis', 'RICE']].sort_values(by = 'RICE', ascending= False).head(1)\n",
    "print(\"The chosen hypothesis is:\", prior_hip_rice['hypothesis'].to_list())"
   ]
  },
  {
   "cell_type": "markdown",
   "metadata": {},
   "source": [
    "**Conclusion**:\n",
    "-  The values of both methods differ because they prioritize factors in different ways. ICE overlooks the factor of Reach, meaning it does not consider how many users will be affected by the hypothesis. In contrast, RICE takes Reach into account, giving higher priority to hypotheses that have the potential to affect a larger audience. This makes Hypothesis #7 more important in RICE due to its larger reach and greater effect on stakeholders."
   ]
  },
  {
   "cell_type": "markdown",
   "metadata": {},
   "source": [
    "### 5. A/B Test Analysis:\n",
    "In this section, we will analyze the A/B test results using the df_orders_us and df_visitors_us files. The analysis will focus on key metrics such as cumulative revenue, average order size, conversion rates, and statistical significance. Also, several visualizations will be created to better understand the differences between the control Group A and the test Group B."
   ]
  },
  {
   "cell_type": "code",
   "execution_count": 19,
   "metadata": {},
   "outputs": [
    {
     "data": {
      "text/html": [
       "<div>\n",
       "<style scoped>\n",
       "    .dataframe tbody tr th:only-of-type {\n",
       "        vertical-align: middle;\n",
       "    }\n",
       "\n",
       "    .dataframe tbody tr th {\n",
       "        vertical-align: top;\n",
       "    }\n",
       "\n",
       "    .dataframe thead th {\n",
       "        text-align: right;\n",
       "    }\n",
       "</style>\n",
       "<table border=\"1\" class=\"dataframe\">\n",
       "  <thead>\n",
       "    <tr style=\"text-align: right;\">\n",
       "      <th></th>\n",
       "      <th>date</th>\n",
       "      <th>group</th>\n",
       "      <th>visits</th>\n",
       "    </tr>\n",
       "  </thead>\n",
       "  <tbody>\n",
       "    <tr>\n",
       "      <th>44</th>\n",
       "      <td>2019-08-14</td>\n",
       "      <td>B</td>\n",
       "      <td>746</td>\n",
       "    </tr>\n",
       "    <tr>\n",
       "      <th>53</th>\n",
       "      <td>2019-08-23</td>\n",
       "      <td>B</td>\n",
       "      <td>546</td>\n",
       "    </tr>\n",
       "    <tr>\n",
       "      <th>41</th>\n",
       "      <td>2019-08-11</td>\n",
       "      <td>B</td>\n",
       "      <td>721</td>\n",
       "    </tr>\n",
       "  </tbody>\n",
       "</table>\n",
       "</div>"
      ],
      "text/plain": [
       "         date group  visits\n",
       "44 2019-08-14     B     746\n",
       "53 2019-08-23     B     546\n",
       "41 2019-08-11     B     721"
      ]
     },
     "execution_count": 19,
     "metadata": {},
     "output_type": "execute_result"
    }
   ],
   "source": [
    "# Displying 03 rows of the DataFrame\n",
    "df_visits_us.sample(3)"
   ]
  },
  {
   "cell_type": "code",
   "execution_count": 20,
   "metadata": {},
   "outputs": [
    {
     "data": {
      "text/html": [
       "<div>\n",
       "<style scoped>\n",
       "    .dataframe tbody tr th:only-of-type {\n",
       "        vertical-align: middle;\n",
       "    }\n",
       "\n",
       "    .dataframe tbody tr th {\n",
       "        vertical-align: top;\n",
       "    }\n",
       "\n",
       "    .dataframe thead th {\n",
       "        text-align: right;\n",
       "    }\n",
       "</style>\n",
       "<table border=\"1\" class=\"dataframe\">\n",
       "  <thead>\n",
       "    <tr style=\"text-align: right;\">\n",
       "      <th></th>\n",
       "      <th>transactionid</th>\n",
       "      <th>visitorid</th>\n",
       "      <th>date</th>\n",
       "      <th>revenue</th>\n",
       "      <th>group</th>\n",
       "    </tr>\n",
       "  </thead>\n",
       "  <tbody>\n",
       "    <tr>\n",
       "      <th>299</th>\n",
       "      <td>800632297</td>\n",
       "      <td>4062713576</td>\n",
       "      <td>2019-08-24</td>\n",
       "      <td>30.1</td>\n",
       "      <td>B</td>\n",
       "    </tr>\n",
       "    <tr>\n",
       "      <th>129</th>\n",
       "      <td>1665445278</td>\n",
       "      <td>1738359350</td>\n",
       "      <td>2019-08-22</td>\n",
       "      <td>50.2</td>\n",
       "      <td>A</td>\n",
       "    </tr>\n",
       "    <tr>\n",
       "      <th>604</th>\n",
       "      <td>3608171161</td>\n",
       "      <td>3637027427</td>\n",
       "      <td>2019-08-04</td>\n",
       "      <td>220.2</td>\n",
       "      <td>A</td>\n",
       "    </tr>\n",
       "  </tbody>\n",
       "</table>\n",
       "</div>"
      ],
      "text/plain": [
       "     transactionid   visitorid       date  revenue group\n",
       "299      800632297  4062713576 2019-08-24     30.1     B\n",
       "129     1665445278  1738359350 2019-08-22     50.2     A\n",
       "604     3608171161  3637027427 2019-08-04    220.2     A"
      ]
     },
     "execution_count": 20,
     "metadata": {},
     "output_type": "execute_result"
    }
   ],
   "source": [
    "# Displaying 03 rows of the DataFrame\n",
    "df_orders_us.sample(3)"
   ]
  },
  {
   "cell_type": "markdown",
   "metadata": {},
   "source": [
    "**1. Plot Cumulative Revenue per Group:** \n",
    "The goal of this analysis is to observe how the cumulative revenue evolves for each group throughout the test period."
   ]
  },
  {
   "cell_type": "code",
   "execution_count": 21,
   "metadata": {},
   "outputs": [
    {
     "data": {
      "text/html": [
       "<div>\n",
       "<style scoped>\n",
       "    .dataframe tbody tr th:only-of-type {\n",
       "        vertical-align: middle;\n",
       "    }\n",
       "\n",
       "    .dataframe tbody tr th {\n",
       "        vertical-align: top;\n",
       "    }\n",
       "\n",
       "    .dataframe thead th {\n",
       "        text-align: right;\n",
       "    }\n",
       "</style>\n",
       "<table border=\"1\" class=\"dataframe\">\n",
       "  <thead>\n",
       "    <tr style=\"text-align: right;\">\n",
       "      <th></th>\n",
       "      <th>date</th>\n",
       "      <th>revenue</th>\n",
       "    </tr>\n",
       "  </thead>\n",
       "  <tbody>\n",
       "    <tr>\n",
       "      <th>0</th>\n",
       "      <td>2019-08-01</td>\n",
       "      <td>1620.0</td>\n",
       "    </tr>\n",
       "    <tr>\n",
       "      <th>1</th>\n",
       "      <td>2019-08-02</td>\n",
       "      <td>4243.8</td>\n",
       "    </tr>\n",
       "    <tr>\n",
       "      <th>2</th>\n",
       "      <td>2019-08-03</td>\n",
       "      <td>6050.6</td>\n",
       "    </tr>\n",
       "    <tr>\n",
       "      <th>3</th>\n",
       "      <td>2019-08-04</td>\n",
       "      <td>7767.9</td>\n",
       "    </tr>\n",
       "    <tr>\n",
       "      <th>4</th>\n",
       "      <td>2019-08-05</td>\n",
       "      <td>9262.9</td>\n",
       "    </tr>\n",
       "  </tbody>\n",
       "</table>\n",
       "</div>"
      ],
      "text/plain": [
       "        date  revenue\n",
       "0 2019-08-01   1620.0\n",
       "1 2019-08-02   4243.8\n",
       "2 2019-08-03   6050.6\n",
       "3 2019-08-04   7767.9\n",
       "4 2019-08-05   9262.9"
      ]
     },
     "execution_count": 21,
     "metadata": {},
     "output_type": "execute_result"
    }
   ],
   "source": [
    "# Calculating cumulative revenue per group using cumcum() which calculates the cumulative sum of the column\n",
    "# Cumulative revenue for Group A\n",
    "cumulativeRevenueA = df_orders_us[df_orders_us['group'] == 'A'].groupby('date').agg({'revenue': 'sum'}).cumsum().reset_index().sort_values('date')\n",
    "\n",
    "# Cumulative revenue for Group B\n",
    "cumulativeRevenueB = df_orders_us[df_orders_us['group'] == 'B'].groupby('date').agg({'revenue': 'sum'}).cumsum().reset_index().sort_values('date')\n",
    "\n",
    "# VerifDisplaying df\n",
    "cumulativeRevenueB.head()"
   ]
  },
  {
   "cell_type": "code",
   "execution_count": 22,
   "metadata": {},
   "outputs": [
    {
     "data": {
      "image/png": "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",
      "text/plain": [
       "<Figure size 640x480 with 1 Axes>"
      ]
     },
     "metadata": {},
     "output_type": "display_data"
    }
   ],
   "source": [
    "# Plotting cumulative revenue graph for Groups A and B\n",
    "plt.plot(cumulativeRevenueA['date'], cumulativeRevenueA['revenue'], label='Group A')\n",
    "plt.plot(cumulativeRevenueB['date'], cumulativeRevenueB['revenue'], label='Group B')\n",
    "\n",
    "# Customizing the chart\n",
    "plt.title('Cumulative Revenue by Group')\n",
    "plt.xlabel('Date')\n",
    "plt.ylabel('Cumulative Revenuea')\n",
    "\n",
    "plt.legend()\n",
    "plt.grid(True)\n",
    "plt.xticks(rotation=45)  \n",
    "\n",
    "plt.show()"
   ]
  },
  {
   "cell_type": "markdown",
   "metadata": {},
   "source": [
    "**Conclusion**:\n",
    "- The cumulative revenue graph over the course of one year indicates that both groups showed growth, but with distinct patterns. During the first five days, the behaviors were similar, but Group B started to stand out in terms of growth after day 17, maintaining a higher performance than Group A until the end of the period.\n",
    "- Group A experienced steady and consistent growth, whereas Group B showed a rapid increase after day 17, followed by stabilization. This suggests that Group B's performance might have been influenced by specific events that boosted sales during that period."
   ]
  },
  {
   "cell_type": "markdown",
   "metadata": {},
   "source": [
    "**2. Plot Average Cumulative Order Size per Group:** The goal is to observe how the average order size develops over time for each group"
   ]
  },
  {
   "cell_type": "code",
   "execution_count": 23,
   "metadata": {},
   "outputs": [
    {
     "data": {
      "text/html": [
       "<div>\n",
       "<style scoped>\n",
       "    .dataframe tbody tr th:only-of-type {\n",
       "        vertical-align: middle;\n",
       "    }\n",
       "\n",
       "    .dataframe tbody tr th {\n",
       "        vertical-align: top;\n",
       "    }\n",
       "\n",
       "    .dataframe thead th {\n",
       "        text-align: right;\n",
       "    }\n",
       "</style>\n",
       "<table border=\"1\" class=\"dataframe\">\n",
       "  <thead>\n",
       "    <tr style=\"text-align: right;\">\n",
       "      <th></th>\n",
       "      <th>date</th>\n",
       "      <th>revenue</th>\n",
       "      <th>transactionid</th>\n",
       "      <th>avg_order_size</th>\n",
       "    </tr>\n",
       "  </thead>\n",
       "  <tbody>\n",
       "    <tr>\n",
       "      <th>0</th>\n",
       "      <td>2019-08-01</td>\n",
       "      <td>1620.0</td>\n",
       "      <td>21</td>\n",
       "      <td>77.14</td>\n",
       "    </tr>\n",
       "    <tr>\n",
       "      <th>1</th>\n",
       "      <td>2019-08-02</td>\n",
       "      <td>4243.8</td>\n",
       "      <td>45</td>\n",
       "      <td>94.31</td>\n",
       "    </tr>\n",
       "    <tr>\n",
       "      <th>2</th>\n",
       "      <td>2019-08-03</td>\n",
       "      <td>6050.6</td>\n",
       "      <td>61</td>\n",
       "      <td>99.19</td>\n",
       "    </tr>\n",
       "    <tr>\n",
       "      <th>3</th>\n",
       "      <td>2019-08-04</td>\n",
       "      <td>7767.9</td>\n",
       "      <td>78</td>\n",
       "      <td>99.59</td>\n",
       "    </tr>\n",
       "    <tr>\n",
       "      <th>4</th>\n",
       "      <td>2019-08-05</td>\n",
       "      <td>9262.9</td>\n",
       "      <td>101</td>\n",
       "      <td>91.71</td>\n",
       "    </tr>\n",
       "  </tbody>\n",
       "</table>\n",
       "</div>"
      ],
      "text/plain": [
       "        date  revenue  transactionid  avg_order_size\n",
       "0 2019-08-01   1620.0             21           77.14\n",
       "1 2019-08-02   4243.8             45           94.31\n",
       "2 2019-08-03   6050.6             61           99.19\n",
       "3 2019-08-04   7767.9             78           99.59\n",
       "4 2019-08-05   9262.9            101           91.71"
      ]
     },
     "execution_count": 23,
     "metadata": {},
     "output_type": "execute_result"
    }
   ],
   "source": [
    "# Cumulative revenue and cumulative number of orders for Group A\n",
    "cumulativeDataA = (df_orders_us[df_orders_us['group'] == 'A'].groupby('date').agg({'revenue': 'sum', 'transactionid': 'count'}).cumsum().reset_index())\n",
    "\n",
    "# Obtaining the average order size (Group A)\n",
    "cumulativeDataA['avg_order_size'] = (cumulativeDataA['revenue'] / cumulativeDataA['transactionid']).round(2)\n",
    "\n",
    "# Cumulative revenue and cumulative number of orders for Group B\n",
    "cumulativeDataB = (df_orders_us[df_orders_us['group'] == 'B'].groupby('date').agg({'revenue': 'sum', 'transactionid': 'count'}).cumsum().reset_index())\n",
    "\n",
    "# Obtaining the average order size (Group B)\n",
    "cumulativeDataB['avg_order_size'] =( cumulativeDataB['revenue'] / cumulativeDataB['transactionid']).round(2)\n",
    "\n",
    "# Displaying new df\n",
    "cumulativeDataB.head()"
   ]
  },
  {
   "cell_type": "markdown",
   "metadata": {},
   "source": [
    "**Conclusion:**\n",
    "- The graph of the average cumulative order size revealed that Group B showed initial growth, with an exponential peak on day 17, followed by a slight decline, but maintaining an average higher than Group A for most of the period.\n",
    "\n",
    "- Group A experienced a decline in the first five days, followed by brief growth and stabilization until the end of the period."
   ]
  },
  {
   "cell_type": "markdown",
   "metadata": {},
   "source": [
    "3. **Plot Relative Difference in Average Cumulative Order Size:** The goal is to visualize how the average cumulative order size for Group B differs from Group A as the test progresses."
   ]
  },
  {
   "cell_type": "code",
   "execution_count": 24,
   "metadata": {},
   "outputs": [
    {
     "data": {
      "text/plain": [
       "0   -21.446029\n",
       "1     7.500285\n",
       "2    18.847352\n",
       "3    22.617582\n",
       "4    13.460349\n",
       "Name: avg_order_size, dtype: float64"
      ]
     },
     "execution_count": 24,
     "metadata": {},
     "output_type": "execute_result"
    }
   ],
   "source": [
    "# Calculating the relative difference between the average order sizes of Group A and Group B\n",
    "relative_difference = ((cumulativeDataB['avg_order_size'] - cumulativeDataA['avg_order_size']) / cumulativeDataA['avg_order_size']) * 100\n",
    "\n",
    "# Displaying results\n",
    "relative_difference.head()"
   ]
  },
  {
   "cell_type": "code",
   "execution_count": 25,
   "metadata": {},
   "outputs": [
    {
     "data": {
      "image/png": "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",
      "text/plain": [
       "<Figure size 640x480 with 1 Axes>"
      ]
     },
     "metadata": {},
     "output_type": "display_data"
    }
   ],
   "source": [
    "# Plotting the relative difference graph\n",
    "plt.plot(cumulativeDataA['date'], relative_difference, label='Relative Difference (B - A)')\n",
    "\n",
    "# Customizing the chart\n",
    "plt.title('Relative Difference in Cumulative Average Order Size (Group B vs Group A)')\n",
    "plt.xlabel('Date')\n",
    "plt.ylabel('Relative Difference(%)')\n",
    "\n",
    "# Customizing the chart\n",
    "plt.legend()\n",
    "plt.xticks(rotation=45)\n",
    "plt.grid(True)\n",
    "\n",
    "plt.show()"
   ]
  },
  {
   "cell_type": "markdown",
   "metadata": {},
   "source": [
    "**Conclusion:**\n",
    "- For most of the period, the value remained above 0%, indicating that Group B had a higher average cumulative order size than Group A. However, Group A performed better at the beginning and around day 13, when the graph showed that Group A's average cumulative order size surpassed that of Group B."
   ]
  },
  {
   "cell_type": "markdown",
   "metadata": {},
   "source": [
    "4.**Calculate the Conversion Rate for Each Group as the Orders-to-Visits Ratio for Each Day. Plot the Daily Conversion Rates for Both Groups and Describe the Differences**: This analysis aims to assess how effectively each group converts website visits into orders. By calculating the conversion rate (orders divided by visits), we can compare the performance of both groups in terms of conversion efficiency over time."
   ]
  },
  {
   "cell_type": "code",
   "execution_count": 26,
   "metadata": {},
   "outputs": [
    {
     "data": {
      "text/html": [
       "<div>\n",
       "<style scoped>\n",
       "    .dataframe tbody tr th:only-of-type {\n",
       "        vertical-align: middle;\n",
       "    }\n",
       "\n",
       "    .dataframe tbody tr th {\n",
       "        vertical-align: top;\n",
       "    }\n",
       "\n",
       "    .dataframe thead th {\n",
       "        text-align: right;\n",
       "    }\n",
       "</style>\n",
       "<table border=\"1\" class=\"dataframe\">\n",
       "  <thead>\n",
       "    <tr style=\"text-align: right;\">\n",
       "      <th></th>\n",
       "      <th>date</th>\n",
       "      <th>group</th>\n",
       "      <th>transactionid</th>\n",
       "    </tr>\n",
       "  </thead>\n",
       "  <tbody>\n",
       "    <tr>\n",
       "      <th>0</th>\n",
       "      <td>2019-08-01</td>\n",
       "      <td>A</td>\n",
       "      <td>24</td>\n",
       "    </tr>\n",
       "    <tr>\n",
       "      <th>1</th>\n",
       "      <td>2019-08-01</td>\n",
       "      <td>B</td>\n",
       "      <td>21</td>\n",
       "    </tr>\n",
       "    <tr>\n",
       "      <th>2</th>\n",
       "      <td>2019-08-02</td>\n",
       "      <td>A</td>\n",
       "      <td>20</td>\n",
       "    </tr>\n",
       "  </tbody>\n",
       "</table>\n",
       "</div>"
      ],
      "text/plain": [
       "        date group  transactionid\n",
       "0 2019-08-01     A             24\n",
       "1 2019-08-01     B             21\n",
       "2 2019-08-02     A             20"
      ]
     },
     "execution_count": 26,
     "metadata": {},
     "output_type": "execute_result"
    }
   ],
   "source": [
    "# Counting the number of visits by grouping by day and group\n",
    "daily_visits = df_visits_us.groupby(['date', 'group']).agg({'visits': 'sum'}).reset_index()\n",
    "# Counting the number of orders by grouping by day and group\n",
    "daily_orders = df_orders_us.groupby(['date', 'group']).agg({'transactionid': 'count'}).reset_index()\n",
    "\n",
    "# displaying the new df\n",
    "daily_orders.head(3)"
   ]
  },
  {
   "cell_type": "code",
   "execution_count": 27,
   "metadata": {},
   "outputs": [
    {
     "name": "stdout",
     "output_type": "stream",
     "text": [
      "<class 'pandas.core.frame.DataFrame'>\n",
      "RangeIndex: 62 entries, 0 to 61\n",
      "Data columns (total 4 columns):\n",
      " #   Column         Non-Null Count  Dtype         \n",
      "---  ------         --------------  -----         \n",
      " 0   date           62 non-null     datetime64[ns]\n",
      " 1   group          62 non-null     object        \n",
      " 2   visits         62 non-null     int64         \n",
      " 3   transactionid  62 non-null     int64         \n",
      "dtypes: datetime64[ns](1), int64(2), object(1)\n",
      "memory usage: 2.1+ KB\n"
     ]
    }
   ],
   "source": [
    "# Merging daily_visits and daily_orders\n",
    "conversion_data = pd.merge(daily_visits, daily_orders, on=['date', 'group'], how='left')\n",
    "\n",
    "# Checking the new df (for missing values and ensuring all columns are present)\n",
    "conversion_data.info()"
   ]
  },
  {
   "cell_type": "code",
   "execution_count": 28,
   "metadata": {},
   "outputs": [
    {
     "data": {
      "text/html": [
       "<div>\n",
       "<style scoped>\n",
       "    .dataframe tbody tr th:only-of-type {\n",
       "        vertical-align: middle;\n",
       "    }\n",
       "\n",
       "    .dataframe tbody tr th {\n",
       "        vertical-align: top;\n",
       "    }\n",
       "\n",
       "    .dataframe thead th {\n",
       "        text-align: right;\n",
       "    }\n",
       "</style>\n",
       "<table border=\"1\" class=\"dataframe\">\n",
       "  <thead>\n",
       "    <tr style=\"text-align: right;\">\n",
       "      <th></th>\n",
       "      <th>date</th>\n",
       "      <th>group</th>\n",
       "      <th>visits</th>\n",
       "      <th>transactionid</th>\n",
       "      <th>conversion_rate</th>\n",
       "    </tr>\n",
       "  </thead>\n",
       "  <tbody>\n",
       "    <tr>\n",
       "      <th>0</th>\n",
       "      <td>2019-08-01</td>\n",
       "      <td>A</td>\n",
       "      <td>719</td>\n",
       "      <td>24</td>\n",
       "      <td>3.34</td>\n",
       "    </tr>\n",
       "    <tr>\n",
       "      <th>1</th>\n",
       "      <td>2019-08-01</td>\n",
       "      <td>B</td>\n",
       "      <td>713</td>\n",
       "      <td>21</td>\n",
       "      <td>2.95</td>\n",
       "    </tr>\n",
       "    <tr>\n",
       "      <th>2</th>\n",
       "      <td>2019-08-02</td>\n",
       "      <td>A</td>\n",
       "      <td>619</td>\n",
       "      <td>20</td>\n",
       "      <td>3.23</td>\n",
       "    </tr>\n",
       "    <tr>\n",
       "      <th>3</th>\n",
       "      <td>2019-08-02</td>\n",
       "      <td>B</td>\n",
       "      <td>581</td>\n",
       "      <td>24</td>\n",
       "      <td>4.13</td>\n",
       "    </tr>\n",
       "    <tr>\n",
       "      <th>4</th>\n",
       "      <td>2019-08-03</td>\n",
       "      <td>A</td>\n",
       "      <td>507</td>\n",
       "      <td>24</td>\n",
       "      <td>4.73</td>\n",
       "    </tr>\n",
       "  </tbody>\n",
       "</table>\n",
       "</div>"
      ],
      "text/plain": [
       "        date group  visits  transactionid  conversion_rate\n",
       "0 2019-08-01     A     719             24             3.34\n",
       "1 2019-08-01     B     713             21             2.95\n",
       "2 2019-08-02     A     619             20             3.23\n",
       "3 2019-08-02     B     581             24             4.13\n",
       "4 2019-08-03     A     507             24             4.73"
      ]
     },
     "execution_count": 28,
     "metadata": {},
     "output_type": "execute_result"
    }
   ],
   "source": [
    "# Calculating the conversion rate\n",
    "conversion_data['conversion_rate'] = ((conversion_data['transactionid'] / conversion_data['visits']) * 100).round(2)\n",
    "conversion_data.head()"
   ]
  },
  {
   "cell_type": "code",
   "execution_count": 29,
   "metadata": {},
   "outputs": [
    {
     "data": {
      "image/png": "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",
      "text/plain": [
       "<Figure size 640x480 with 1 Axes>"
      ]
     },
     "metadata": {},
     "output_type": "display_data"
    }
   ],
   "source": [
    "# Splitting Groups A and B\n",
    "conversion_A = conversion_data[conversion_data['group'] == 'A']\n",
    "conversion_B = conversion_data[conversion_data['group'] == 'B']\n",
    "\n",
    "# Plotting the conversion rates\n",
    "plt.plot(conversion_A['date'], conversion_A['conversion_rate'], label='Group A')\n",
    "plt.plot(conversion_B['date'], conversion_B['conversion_rate'], label='Group B')\n",
    "\n",
    "# Customizing the plot\n",
    "plt.title('Daily Conversion Rates by Group')\n",
    "plt.xlabel('Date')\n",
    "plt.ylabel('Conversion Rate (%)')\n",
    "\n",
    "plt.legend()\n",
    "plt.xticks(rotation=45)\n",
    "plt.grid(True)\n",
    "\n",
    "plt.show()\n"
   ]
  },
  {
   "cell_type": "markdown",
   "metadata": {},
   "source": [
    "**Conclusion**:\n",
    "- It was observed that there is no clear pattern between the two groups due to the high variation in the values of both. However, overall, we can note that Group A had a conversion rate ranging from 1.5% to 5.5%, while the values for Group B fluctuated between 1% and 6.5%."
   ]
  },
  {
   "cell_type": "markdown",
   "metadata": {},
   "source": [
    "5. **Plot the Relative Difference in Cumulative Conversion Between Group B and Group A:** This analysis aims to compare the cumulative conversion performance of both groups over time. By plotting the relative difference, we can clearly see how Group B's conversion rate compares to Group A's, which may help identify which group is performing better in terms of converting visits into orders over the entire period."
   ]
  },
  {
   "cell_type": "code",
   "execution_count": 30,
   "metadata": {},
   "outputs": [
    {
     "name": "stdout",
     "output_type": "stream",
     "text": [
      "        date group  visits  cumulative_visits\n",
      "0 2019-08-01     A     719                719\n",
      "1 2019-08-01     B     713                713\n",
      "2 2019-08-02     A     619               1338\n",
      "\n",
      "        date group  transactionid  cumulative_orders\n",
      "0 2019-08-01     A             24                 24\n",
      "1 2019-08-01     B             21                 21\n",
      "2 2019-08-02     A             20                 44\n"
     ]
    }
   ],
   "source": [
    "# For cumulative visits\n",
    "cumulative_visits = df_visits_us.groupby(['date', 'group'], as_index=False).agg({'visits': 'sum'})\n",
    "cumulative_visits['cumulative_visits'] = cumulative_visits.groupby(['group'])['visits'].cumsum()\n",
    "\n",
    "# For cumulative orders\n",
    "cumulative_orders = df_orders_us.groupby(['date', 'group'], as_index=False).agg({'transactionid': 'count'})\n",
    "cumulative_orders['cumulative_orders'] = cumulative_orders.groupby(['group'])['transactionid'].cumsum()\n",
    "\n",
    "# Checking results\n",
    "print(cumulative_visits.head(3))\n",
    "print()\n",
    "print(cumulative_orders.head(3))\n"
   ]
  },
  {
   "cell_type": "code",
   "execution_count": 31,
   "metadata": {},
   "outputs": [
    {
     "data": {
      "text/html": [
       "<div>\n",
       "<style scoped>\n",
       "    .dataframe tbody tr th:only-of-type {\n",
       "        vertical-align: middle;\n",
       "    }\n",
       "\n",
       "    .dataframe tbody tr th {\n",
       "        vertical-align: top;\n",
       "    }\n",
       "\n",
       "    .dataframe thead th {\n",
       "        text-align: right;\n",
       "    }\n",
       "</style>\n",
       "<table border=\"1\" class=\"dataframe\">\n",
       "  <thead>\n",
       "    <tr style=\"text-align: right;\">\n",
       "      <th></th>\n",
       "      <th>date</th>\n",
       "      <th>group</th>\n",
       "      <th>visits</th>\n",
       "      <th>cumulative_visits</th>\n",
       "      <th>transactionid</th>\n",
       "      <th>cumulative_orders</th>\n",
       "    </tr>\n",
       "  </thead>\n",
       "  <tbody>\n",
       "    <tr>\n",
       "      <th>0</th>\n",
       "      <td>2019-08-01</td>\n",
       "      <td>A</td>\n",
       "      <td>719</td>\n",
       "      <td>719</td>\n",
       "      <td>24</td>\n",
       "      <td>24</td>\n",
       "    </tr>\n",
       "    <tr>\n",
       "      <th>1</th>\n",
       "      <td>2019-08-01</td>\n",
       "      <td>B</td>\n",
       "      <td>713</td>\n",
       "      <td>713</td>\n",
       "      <td>21</td>\n",
       "      <td>21</td>\n",
       "    </tr>\n",
       "    <tr>\n",
       "      <th>2</th>\n",
       "      <td>2019-08-02</td>\n",
       "      <td>A</td>\n",
       "      <td>619</td>\n",
       "      <td>1338</td>\n",
       "      <td>20</td>\n",
       "      <td>44</td>\n",
       "    </tr>\n",
       "  </tbody>\n",
       "</table>\n",
       "</div>"
      ],
      "text/plain": [
       "        date group  visits  cumulative_visits  transactionid  \\\n",
       "0 2019-08-01     A     719                719             24   \n",
       "1 2019-08-01     B     713                713             21   \n",
       "2 2019-08-02     A     619               1338             20   \n",
       "\n",
       "   cumulative_orders  \n",
       "0                 24  \n",
       "1                 21  \n",
       "2                 44  "
      ]
     },
     "execution_count": 31,
     "metadata": {},
     "output_type": "execute_result"
    }
   ],
   "source": [
    "# Merging the cumulative visits and orders data\n",
    "cumulative_data = pd.merge(cumulative_visits, cumulative_orders, on=['date', 'group'], how='left')\n",
    "\n",
    "# Displaying results\n",
    "cumulative_data.head(3)"
   ]
  },
  {
   "cell_type": "code",
   "execution_count": 32,
   "metadata": {},
   "outputs": [
    {
     "data": {
      "text/html": [
       "<div>\n",
       "<style scoped>\n",
       "    .dataframe tbody tr th:only-of-type {\n",
       "        vertical-align: middle;\n",
       "    }\n",
       "\n",
       "    .dataframe tbody tr th {\n",
       "        vertical-align: top;\n",
       "    }\n",
       "\n",
       "    .dataframe thead th {\n",
       "        text-align: right;\n",
       "    }\n",
       "</style>\n",
       "<table border=\"1\" class=\"dataframe\">\n",
       "  <thead>\n",
       "    <tr style=\"text-align: right;\">\n",
       "      <th></th>\n",
       "      <th>date</th>\n",
       "      <th>group</th>\n",
       "      <th>visits</th>\n",
       "      <th>cumulative_visits</th>\n",
       "      <th>transactionid</th>\n",
       "      <th>cumulative_orders</th>\n",
       "      <th>cumulative_conversion</th>\n",
       "    </tr>\n",
       "  </thead>\n",
       "  <tbody>\n",
       "    <tr>\n",
       "      <th>0</th>\n",
       "      <td>2019-08-01</td>\n",
       "      <td>A</td>\n",
       "      <td>719</td>\n",
       "      <td>719</td>\n",
       "      <td>24</td>\n",
       "      <td>24</td>\n",
       "      <td>3.34</td>\n",
       "    </tr>\n",
       "    <tr>\n",
       "      <th>1</th>\n",
       "      <td>2019-08-01</td>\n",
       "      <td>B</td>\n",
       "      <td>713</td>\n",
       "      <td>713</td>\n",
       "      <td>21</td>\n",
       "      <td>21</td>\n",
       "      <td>2.95</td>\n",
       "    </tr>\n",
       "    <tr>\n",
       "      <th>2</th>\n",
       "      <td>2019-08-02</td>\n",
       "      <td>A</td>\n",
       "      <td>619</td>\n",
       "      <td>1338</td>\n",
       "      <td>20</td>\n",
       "      <td>44</td>\n",
       "      <td>3.23</td>\n",
       "    </tr>\n",
       "  </tbody>\n",
       "</table>\n",
       "</div>"
      ],
      "text/plain": [
       "        date group  visits  cumulative_visits  transactionid  \\\n",
       "0 2019-08-01     A     719                719             24   \n",
       "1 2019-08-01     B     713                713             21   \n",
       "2 2019-08-02     A     619               1338             20   \n",
       "\n",
       "   cumulative_orders  cumulative_conversion  \n",
       "0                 24                   3.34  \n",
       "1                 21                   2.95  \n",
       "2                 44                   3.23  "
      ]
     },
     "execution_count": 32,
     "metadata": {},
     "output_type": "execute_result"
    }
   ],
   "source": [
    "# Calculating the cumulative conversion\n",
    "cumulative_data['cumulative_conversion'] = ((cumulative_data['transactionid'] / cumulative_data['visits']) * 100).round(2)\n",
    "\n",
    "# Displaying results\n",
    "cumulative_data.head(3)"
   ]
  },
  {
   "cell_type": "code",
   "execution_count": 33,
   "metadata": {},
   "outputs": [
    {
     "data": {
      "text/html": [
       "<div>\n",
       "<style scoped>\n",
       "    .dataframe tbody tr th:only-of-type {\n",
       "        vertical-align: middle;\n",
       "    }\n",
       "\n",
       "    .dataframe tbody tr th {\n",
       "        vertical-align: top;\n",
       "    }\n",
       "\n",
       "    .dataframe thead th {\n",
       "        text-align: right;\n",
       "    }\n",
       "</style>\n",
       "<table border=\"1\" class=\"dataframe\">\n",
       "  <thead>\n",
       "    <tr style=\"text-align: right;\">\n",
       "      <th></th>\n",
       "      <th>date</th>\n",
       "      <th>cumulative_conversion_A</th>\n",
       "      <th>cumulative_conversion_B</th>\n",
       "    </tr>\n",
       "  </thead>\n",
       "  <tbody>\n",
       "    <tr>\n",
       "      <th>0</th>\n",
       "      <td>2019-08-01</td>\n",
       "      <td>3.34</td>\n",
       "      <td>2.95</td>\n",
       "    </tr>\n",
       "    <tr>\n",
       "      <th>1</th>\n",
       "      <td>2019-08-02</td>\n",
       "      <td>3.23</td>\n",
       "      <td>4.13</td>\n",
       "    </tr>\n",
       "    <tr>\n",
       "      <th>2</th>\n",
       "      <td>2019-08-03</td>\n",
       "      <td>4.73</td>\n",
       "      <td>3.14</td>\n",
       "    </tr>\n",
       "  </tbody>\n",
       "</table>\n",
       "</div>"
      ],
      "text/plain": [
       "        date  cumulative_conversion_A  cumulative_conversion_B\n",
       "0 2019-08-01                     3.34                     2.95\n",
       "1 2019-08-02                     3.23                     4.13\n",
       "2 2019-08-03                     4.73                     3.14"
      ]
     },
     "execution_count": 33,
     "metadata": {},
     "output_type": "execute_result"
    }
   ],
   "source": [
    "# Selecting Groups A and B\n",
    "cumulative_A = cumulative_data[cumulative_data['group'] == 'A']\n",
    "cumulative_B = cumulative_data[cumulative_data['group'] == 'B']\n",
    "\n",
    "# Calculating the relative difference in cumulative conversion\n",
    "relative_difference = pd.merge(cumulative_A[['date', 'cumulative_conversion']],     cumulative_B[['date', 'cumulative_conversion']], on='date', suffixes=('_A', '_B'))\n",
    "\n",
    "# Displaying results\n",
    "relative_difference.head(3)"
   ]
  },
  {
   "cell_type": "code",
   "execution_count": 34,
   "metadata": {},
   "outputs": [
    {
     "data": {
      "text/html": [
       "<div>\n",
       "<style scoped>\n",
       "    .dataframe tbody tr th:only-of-type {\n",
       "        vertical-align: middle;\n",
       "    }\n",
       "\n",
       "    .dataframe tbody tr th {\n",
       "        vertical-align: top;\n",
       "    }\n",
       "\n",
       "    .dataframe thead th {\n",
       "        text-align: right;\n",
       "    }\n",
       "</style>\n",
       "<table border=\"1\" class=\"dataframe\">\n",
       "  <thead>\n",
       "    <tr style=\"text-align: right;\">\n",
       "      <th></th>\n",
       "      <th>date</th>\n",
       "      <th>cumulative_conversion_A</th>\n",
       "      <th>cumulative_conversion_B</th>\n",
       "      <th>relative_difference</th>\n",
       "    </tr>\n",
       "  </thead>\n",
       "  <tbody>\n",
       "    <tr>\n",
       "      <th>0</th>\n",
       "      <td>2019-08-01</td>\n",
       "      <td>3.34</td>\n",
       "      <td>2.95</td>\n",
       "      <td>-11.68</td>\n",
       "    </tr>\n",
       "    <tr>\n",
       "      <th>1</th>\n",
       "      <td>2019-08-02</td>\n",
       "      <td>3.23</td>\n",
       "      <td>4.13</td>\n",
       "      <td>27.86</td>\n",
       "    </tr>\n",
       "    <tr>\n",
       "      <th>2</th>\n",
       "      <td>2019-08-03</td>\n",
       "      <td>4.73</td>\n",
       "      <td>3.14</td>\n",
       "      <td>-33.62</td>\n",
       "    </tr>\n",
       "  </tbody>\n",
       "</table>\n",
       "</div>"
      ],
      "text/plain": [
       "        date  cumulative_conversion_A  cumulative_conversion_B  \\\n",
       "0 2019-08-01                     3.34                     2.95   \n",
       "1 2019-08-02                     3.23                     4.13   \n",
       "2 2019-08-03                     4.73                     3.14   \n",
       "\n",
       "   relative_difference  \n",
       "0               -11.68  \n",
       "1                27.86  \n",
       "2               -33.62  "
      ]
     },
     "execution_count": 34,
     "metadata": {},
     "output_type": "execute_result"
    }
   ],
   "source": [
    "# Plotting the chart # Calculating the relative difference\n",
    "relative_difference['relative_difference'] = (((relative_difference['cumulative_conversion_B'] - relative_difference['cumulative_conversion_A']) /relative_difference['cumulative_conversion_A']) * 100).round(2)\n",
    "\n",
    "# Displaying results\n",
    "relative_difference.head(3)"
   ]
  },
  {
   "cell_type": "code",
   "execution_count": 35,
   "metadata": {},
   "outputs": [
    {
     "data": {
      "image/png": "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",
      "text/plain": [
       "<Figure size 1000x600 with 1 Axes>"
      ]
     },
     "metadata": {},
     "output_type": "display_data"
    }
   ],
   "source": [
    "# Plotting \n",
    "plt.figure(figsize=(10, 6))\n",
    "plt.plot(relative_difference['date'], relative_difference['relative_difference'], label='Relative Difference')\n",
    "\n",
    "# Customizing the plot\n",
    "plt.axhline(0, color='black', linestyle='--', linewidth=1)  # Linha de referência em 0%\n",
    "plt.title('Relative Difference in Cumulative Conversion (Group B vs Group A)')\n",
    "plt.xlabel('Date')\n",
    "plt.ylabel('Relative Difference (%)')\n",
    "\n",
    "plt.xticks(rotation=45)\n",
    "plt.legend()\n",
    "plt.grid(True)\n",
    "\n",
    "plt.show()"
   ]
  },
  {
   "cell_type": "markdown",
   "metadata": {},
   "source": [
    "**Conclusion:**:\n",
    "- Group B showed higher conversion than Group A until day 17, as indicated by the positive values. After that, there was significant fluctuation, suggesting changes in behavior or external factors affecting conversion. Towards the end of the period, Group B regained its upward trend. Investigating the reasons behind these fluctuations is key to identifying opportunities or strategies that could be replicated."
   ]
  },
  {
   "cell_type": "markdown",
   "metadata": {},
   "source": [
    "6. **Calculate the 95th and 99th Percentiles for the Number of Orders Per User and Define the Point at Which a Data Point Becomes an Anomaly:** The goal is to calculate the 95th and 99th percentiles for the number of orders per user and identify the threshold for anomalies, helping to flag outliers or unusual user behavior for further analysis."
   ]
  },
  {
   "cell_type": "code",
   "execution_count": 36,
   "metadata": {},
   "outputs": [
    {
     "data": {
      "text/html": [
       "<div>\n",
       "<style scoped>\n",
       "    .dataframe tbody tr th:only-of-type {\n",
       "        vertical-align: middle;\n",
       "    }\n",
       "\n",
       "    .dataframe tbody tr th {\n",
       "        vertical-align: top;\n",
       "    }\n",
       "\n",
       "    .dataframe thead th {\n",
       "        text-align: right;\n",
       "    }\n",
       "</style>\n",
       "<table border=\"1\" class=\"dataframe\">\n",
       "  <thead>\n",
       "    <tr style=\"text-align: right;\">\n",
       "      <th></th>\n",
       "      <th>visitorid</th>\n",
       "      <th>orders_count</th>\n",
       "    </tr>\n",
       "  </thead>\n",
       "  <tbody>\n",
       "    <tr>\n",
       "      <th>0</th>\n",
       "      <td>5114589</td>\n",
       "      <td>1</td>\n",
       "    </tr>\n",
       "    <tr>\n",
       "      <th>1</th>\n",
       "      <td>6958315</td>\n",
       "      <td>1</td>\n",
       "    </tr>\n",
       "    <tr>\n",
       "      <th>2</th>\n",
       "      <td>8300375</td>\n",
       "      <td>2</td>\n",
       "    </tr>\n",
       "  </tbody>\n",
       "</table>\n",
       "</div>"
      ],
      "text/plain": [
       "   visitorid  orders_count\n",
       "0    5114589             1\n",
       "1    6958315             1\n",
       "2    8300375             2"
      ]
     },
     "execution_count": 36,
     "metadata": {},
     "output_type": "execute_result"
    }
   ],
   "source": [
    "# Counting the number of orders per user\n",
    "orders_per_user = df_orders_us.groupby('visitorid')['transactionid'].count().reset_index()\n",
    "orders_per_user.columns = ['visitorid', 'orders_count']\n",
    "\n",
    "# Displaying results\n",
    "orders_per_user.head(3)"
   ]
  },
  {
   "cell_type": "code",
   "execution_count": 37,
   "metadata": {},
   "outputs": [
    {
     "name": "stdout",
     "output_type": "stream",
     "text": [
      "The 95th percentile is 2.0 orders and the 99th percentile is 4.0 orders.\n"
     ]
    }
   ],
   "source": [
    "# Calculating the 95th and 99th Percentiles\n",
    "percentile = np.percentile(orders_per_user['orders_count'], [95, 99])\n",
    "\n",
    "# Displaying percentis\n",
    "print(f\"The 95th percentile is {percentile[0]} orders and the 99th percentile is {percentile[1]} orders.\")"
   ]
  },
  {
   "cell_type": "markdown",
   "metadata": {},
   "source": [
    "7. **Create a Scatter Plot of Order Prices:** The goal of this task is to create a scatter plot of order prices to visualize the distribution and relationship between order values. This will help identify any trends, clusters, or outliers in the data, providing insights into pricing patterns and highlighting potential anomalies or unusual price points."
   ]
  },
  {
   "cell_type": "code",
   "execution_count": 38,
   "metadata": {},
   "outputs": [
    {
     "data": {
      "image/png": "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",
      "text/plain": [
       "<Figure size 640x480 with 1 Axes>"
      ]
     },
     "metadata": {},
     "output_type": "display_data"
    }
   ],
   "source": [
    "x_values = pd.Series(range(0,len(orders_per_user)))\n",
    "\n",
    "# Plotting the Graph of Number of Orders per Customer\n",
    "plt.scatter(x_values, orders_per_user['orders_count'], alpha=0.6, label='Pedidos por Cliente')\n",
    "\n",
    "# Customizing the plot\n",
    "plt.title('Distribution of Number of Orders per Customer', fontsize=14)\n",
    "plt.xlabel('Clients', fontsize=12)\n",
    "plt.ylabel('Number of Orders', fontsize=12)\n",
    "\n",
    "plt.legend()\n",
    "plt.grid(alpha=0.3)\n",
    "plt.xticks(fontsize=10)\n",
    "plt.yticks(fontsize=10)\n",
    "\n",
    "plt.show()"
   ]
  },
  {
   "cell_type": "markdown",
   "metadata": {},
   "source": [
    "**Conclusion:**:\n",
    "- The graph and percentile calculations suggest that the point at which the data becomes anomalous occurs at the 99th percentile. Therefore, any customer with more than 4 orders can be considered anomalous."
   ]
  },
  {
   "cell_type": "markdown",
   "metadata": {},
   "source": [
    "8. **Calculate the 95th and 99th Percentiles of Order Prices. Define the Point at Which a Data Point Becomes an Anomaly.**"
   ]
  },
  {
   "cell_type": "code",
   "execution_count": 39,
   "metadata": {},
   "outputs": [
    {
     "data": {
      "text/html": [
       "<div>\n",
       "<style scoped>\n",
       "    .dataframe tbody tr th:only-of-type {\n",
       "        vertical-align: middle;\n",
       "    }\n",
       "\n",
       "    .dataframe tbody tr th {\n",
       "        vertical-align: top;\n",
       "    }\n",
       "\n",
       "    .dataframe thead th {\n",
       "        text-align: right;\n",
       "    }\n",
       "</style>\n",
       "<table border=\"1\" class=\"dataframe\">\n",
       "  <thead>\n",
       "    <tr style=\"text-align: right;\">\n",
       "      <th></th>\n",
       "      <th>transactionid</th>\n",
       "      <th>visitorid</th>\n",
       "      <th>date</th>\n",
       "      <th>revenue</th>\n",
       "      <th>group</th>\n",
       "    </tr>\n",
       "  </thead>\n",
       "  <tbody>\n",
       "    <tr>\n",
       "      <th>0</th>\n",
       "      <td>3667963787</td>\n",
       "      <td>3312258926</td>\n",
       "      <td>2019-08-15</td>\n",
       "      <td>30.4</td>\n",
       "      <td>B</td>\n",
       "    </tr>\n",
       "    <tr>\n",
       "      <th>1</th>\n",
       "      <td>2804400009</td>\n",
       "      <td>3642806036</td>\n",
       "      <td>2019-08-15</td>\n",
       "      <td>15.2</td>\n",
       "      <td>B</td>\n",
       "    </tr>\n",
       "    <tr>\n",
       "      <th>2</th>\n",
       "      <td>2961555356</td>\n",
       "      <td>4069496402</td>\n",
       "      <td>2019-08-15</td>\n",
       "      <td>10.2</td>\n",
       "      <td>A</td>\n",
       "    </tr>\n",
       "  </tbody>\n",
       "</table>\n",
       "</div>"
      ],
      "text/plain": [
       "   transactionid   visitorid       date  revenue group\n",
       "0     3667963787  3312258926 2019-08-15     30.4     B\n",
       "1     2804400009  3642806036 2019-08-15     15.2     B\n",
       "2     2961555356  4069496402 2019-08-15     10.2     A"
      ]
     },
     "execution_count": 39,
     "metadata": {},
     "output_type": "execute_result"
    }
   ],
   "source": [
    "# Checking df\n",
    "df_orders_us.head(3)"
   ]
  },
  {
   "cell_type": "code",
   "execution_count": 40,
   "metadata": {},
   "outputs": [
    {
     "name": "stdout",
     "output_type": "stream",
     "text": [
      "The 95th percentile is 435.54 dollars and the 99th percentile is 900.9 dollars\n"
     ]
    }
   ],
   "source": [
    "#  Calculating the 95th and 99th Percentiles\n",
    "percentile = np.percentile(df_orders_us['revenue'], [95, 99])\n",
    "\n",
    "# Displaying the Percentiles\n",
    "print(f\"The 95th percentile is {percentile[0].round(2)} dollars and the 99th percentile is {(percentile[1]).round(2)} dollars\")"
   ]
  },
  {
   "cell_type": "code",
   "execution_count": 41,
   "metadata": {},
   "outputs": [
    {
     "data": {
      "image/png": "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",
      "text/plain": [
       "<Figure size 640x480 with 1 Axes>"
      ]
     },
     "metadata": {},
     "output_type": "display_data"
    }
   ],
   "source": [
    "x_values = pd.Series(range(0,len(df_orders_us)))\n",
    "\n",
    "# Plotting the Graph of Number of Orders per Customer\n",
    "plt.scatter(x_values, df_orders_us['revenue'], alpha=0.6, label='Pedidos por Cliente')\n",
    "\n",
    "# Customizing the plot\n",
    "plt.title('Distribution of Number of Orders per Customer', fontsize=14)\n",
    "plt.xlabel('Customers', fontsize=12)\n",
    "plt.ylabel('Number of Orders', fontsize=12)\n",
    "\n",
    "plt.legend()\n",
    "plt.grid(alpha=0.3)\n",
    "plt.xticks(fontsize=10)\n",
    "plt.yticks(fontsize=10)\n",
    "\n",
    "\n",
    "plt.show()"
   ]
  },
  {
   "cell_type": "markdown",
   "metadata": {},
   "source": [
    "**Conclusion:** \n",
    "- The graph and the percentile calculations suggest that the point at which the data becomes anomalous is at the 99th percentile, as any customer who spends more than $900.00 per order would be considered anomalous."
   ]
  },
  {
   "cell_type": "markdown",
   "metadata": {},
   "source": [
    "9. **Find the Statistical Significance of the Conversion Difference Between the Groups Using Raw Data:** The goal of this process is to determine whether there is a statistically significant difference in the conversion rates between Group A and Group B using raw data. By performing a hypothesis test, we aim to assess if the observed difference in conversion rates is likely due to random chance or reflects a true underlying difference in performance between the two groups."
   ]
  },
  {
   "cell_type": "code",
   "execution_count": 42,
   "metadata": {},
   "outputs": [
    {
     "data": {
      "text/html": [
       "<div>\n",
       "<style scoped>\n",
       "    .dataframe tbody tr th:only-of-type {\n",
       "        vertical-align: middle;\n",
       "    }\n",
       "\n",
       "    .dataframe tbody tr th {\n",
       "        vertical-align: top;\n",
       "    }\n",
       "\n",
       "    .dataframe thead th {\n",
       "        text-align: right;\n",
       "    }\n",
       "</style>\n",
       "<table border=\"1\" class=\"dataframe\">\n",
       "  <thead>\n",
       "    <tr style=\"text-align: right;\">\n",
       "      <th></th>\n",
       "      <th>visitorid</th>\n",
       "      <th>transactionid</th>\n",
       "    </tr>\n",
       "  </thead>\n",
       "  <tbody>\n",
       "    <tr>\n",
       "      <th>0</th>\n",
       "      <td>8300375</td>\n",
       "      <td>1</td>\n",
       "    </tr>\n",
       "    <tr>\n",
       "      <th>1</th>\n",
       "      <td>11685486</td>\n",
       "      <td>1</td>\n",
       "    </tr>\n",
       "    <tr>\n",
       "      <th>2</th>\n",
       "      <td>54447517</td>\n",
       "      <td>1</td>\n",
       "    </tr>\n",
       "  </tbody>\n",
       "</table>\n",
       "</div>"
      ],
      "text/plain": [
       "   visitorid  transactionid\n",
       "0    8300375              1\n",
       "1   11685486              1\n",
       "2   54447517              1"
      ]
     },
     "execution_count": 42,
     "metadata": {},
     "output_type": "execute_result"
    }
   ],
   "source": [
    "# Counting unique users who made a purchase in group A\n",
    "ordersByUsersA = (df_orders_us[df_orders_us['group'] == 'A'].groupby('visitorid', as_index=False).agg({'transactionid': pd.Series.nunique}))\n",
    "\n",
    "# Renaming columns\n",
    "ordersByUsersA.columns = ['visitorid', 'transactionid']\n",
    "\n",
    "# Counting unique users who made a purchase in group B\n",
    "ordersByUsersB = (df_orders_us[df_orders_us['group'] == 'B'].groupby('visitorid', as_index=False).agg({'transactionid': pd.Series.nunique}))\n",
    "\n",
    "# Renaming columns\n",
    "ordersByUsersB.columns = ['visitorid', 'transactionid']\n",
    "\n",
    "# Displaying results\n",
    "ordersByUsersA.head(3)"
   ]
  },
  {
   "cell_type": "code",
   "execution_count": 43,
   "metadata": {},
   "outputs": [
    {
     "name": "stdout",
     "output_type": "stream",
     "text": [
      "P-value with raw data: 0.017\n",
      "Statistical difference in the conversion rate with raw data: 0.138\n"
     ]
    }
   ],
   "source": [
    "# Selecting the sample for group A\n",
    "sampleA = pd.concat([ordersByUsersA['transactionid'],pd.Series(0, index=np.arange(df_visits_us[df_visits_us['group'] == 'A']['visits'].sum() - len(ordersByUsersA)), name='transactionid')], axis=0)\n",
    "\n",
    "# Selecting the sample for group B\n",
    "sampleB = pd.concat([ordersByUsersB['transactionid'],pd.Series(0, index=np.arange(df_visits_us[df_visits_us['group'] == 'B']['visits'].sum() - len(ordersByUsersB)), name='transactionid')], axis=0)\n",
    "\n",
    "# Displaying results\n",
    "print(\"P-value with raw data: {0:.3f}\".format(stats.mannwhitneyu(sampleA, sampleB)[1]))\n",
    "\n",
    "print(\"Statistical difference in the conversion rate with raw data: {0:.3f}\".format(sampleB.mean()/sampleA.mean()-1))"
   ]
  },
  {
   "cell_type": "markdown",
   "metadata": {},
   "source": [
    "**Conclusion:**\n",
    "Based on the data, there is a statistically significant difference between the conversion rates of groups A and B. The first line of the result provides the p-value, 0.017, which is less than 0.05. Therefore, we can reject the null hypothesis, which assumes that there is a statistically significant difference in conversion between the groups. However, the relative gain of group B is 13.8% higher than that of group A."
   ]
  },
  {
   "cell_type": "markdown",
   "metadata": {},
   "source": [
    "10. **Find the statistical significance of the difference in average order size between the groups using the raw data. Draw conclusions and make conjectures.**"
   ]
  },
  {
   "cell_type": "code",
   "execution_count": 44,
   "metadata": {},
   "outputs": [
    {
     "data": {
      "text/html": [
       "<div>\n",
       "<style scoped>\n",
       "    .dataframe tbody tr th:only-of-type {\n",
       "        vertical-align: middle;\n",
       "    }\n",
       "\n",
       "    .dataframe tbody tr th {\n",
       "        vertical-align: top;\n",
       "    }\n",
       "\n",
       "    .dataframe thead th {\n",
       "        text-align: right;\n",
       "    }\n",
       "</style>\n",
       "<table border=\"1\" class=\"dataframe\">\n",
       "  <thead>\n",
       "    <tr style=\"text-align: right;\">\n",
       "      <th></th>\n",
       "      <th>transactionid</th>\n",
       "      <th>visitorid</th>\n",
       "      <th>date</th>\n",
       "      <th>revenue</th>\n",
       "      <th>group</th>\n",
       "    </tr>\n",
       "  </thead>\n",
       "  <tbody>\n",
       "    <tr>\n",
       "      <th>0</th>\n",
       "      <td>3667963787</td>\n",
       "      <td>3312258926</td>\n",
       "      <td>2019-08-15</td>\n",
       "      <td>30.4</td>\n",
       "      <td>B</td>\n",
       "    </tr>\n",
       "    <tr>\n",
       "      <th>1</th>\n",
       "      <td>2804400009</td>\n",
       "      <td>3642806036</td>\n",
       "      <td>2019-08-15</td>\n",
       "      <td>15.2</td>\n",
       "      <td>B</td>\n",
       "    </tr>\n",
       "    <tr>\n",
       "      <th>2</th>\n",
       "      <td>2961555356</td>\n",
       "      <td>4069496402</td>\n",
       "      <td>2019-08-15</td>\n",
       "      <td>10.2</td>\n",
       "      <td>A</td>\n",
       "    </tr>\n",
       "    <tr>\n",
       "      <th>3</th>\n",
       "      <td>3797467345</td>\n",
       "      <td>1196621759</td>\n",
       "      <td>2019-08-15</td>\n",
       "      <td>155.1</td>\n",
       "      <td>B</td>\n",
       "    </tr>\n",
       "    <tr>\n",
       "      <th>4</th>\n",
       "      <td>2282983706</td>\n",
       "      <td>2322279887</td>\n",
       "      <td>2019-08-15</td>\n",
       "      <td>40.5</td>\n",
       "      <td>B</td>\n",
       "    </tr>\n",
       "  </tbody>\n",
       "</table>\n",
       "</div>"
      ],
      "text/plain": [
       "   transactionid   visitorid       date  revenue group\n",
       "0     3667963787  3312258926 2019-08-15     30.4     B\n",
       "1     2804400009  3642806036 2019-08-15     15.2     B\n",
       "2     2961555356  4069496402 2019-08-15     10.2     A\n",
       "3     3797467345  1196621759 2019-08-15    155.1     B\n",
       "4     2282983706  2322279887 2019-08-15     40.5     B"
      ]
     },
     "execution_count": 44,
     "metadata": {},
     "output_type": "execute_result"
    }
   ],
   "source": [
    "# Displaying df\n",
    "df_orders_us.head()"
   ]
  },
  {
   "cell_type": "code",
   "execution_count": 45,
   "metadata": {},
   "outputs": [
    {
     "name": "stdout",
     "output_type": "stream",
     "text": [
      "P-value with raw data0.692\n",
      "Statistical difference in the conversion rate with raw data: 0.252\n"
     ]
    }
   ],
   "source": [
    "print('P-value with raw data{0:.3f}'.format(stats.mannwhitneyu(df_orders_us[df_orders_us['group']=='A']['revenue'], df_orders_us[df_orders_us['group']=='B']['revenue'])[1]))\n",
    "\n",
    "print('Statistical difference in the conversion rate with raw data: {0:.3f}'.format(df_orders_us[df_orders_us['group']=='B']['revenue'].mean()/df_orders_us[df_orders_us['group']=='A']['revenue'].mean()-1))"
   ]
  },
  {
   "cell_type": "markdown",
   "metadata": {},
   "source": [
    "**Conclusion:**\n",
    "Using the raw data, we can observe that the p-value is considerably higher than 0.05, so we *cannot* reject the null hypothesis that there is no statistically significant difference in the average order size between the groups. Furthermore, the average order volume of group B is 25.2% higher than that of group A."
   ]
  },
  {
   "cell_type": "markdown",
   "metadata": {},
   "source": [
    "11. **Find the statistical significance of the difference in conversion between the groups using the filtered data. Draw conclusions and make conjectures.**"
   ]
  },
  {
   "cell_type": "code",
   "execution_count": 46,
   "metadata": {},
   "outputs": [
    {
     "name": "stdout",
     "output_type": "stream",
     "text": [
      "1099     148427295\n",
      "949      887908475\n",
      "744      888512513\n",
      "1103    1164614297\n",
      "1136    1307669133\n",
      "Name: visitorid, dtype: int64\n",
      "(15,)\n"
     ]
    }
   ],
   "source": [
    "# Given the filtered data, the data without anomalies  \n",
    "# Anomaly defined as those with more than 4 orders or with an order greater than $900\n",
    "\n",
    "# Discovering the number of anomalous users\n",
    "usersWithManyOrders = pd.concat([ordersByUsersA[ordersByUsersA['transactionid'] > 4]['visitorid'], ordersByUsersB[ordersByUsersB['transactionid'] > 4]['visitorid']], axis = 0)\n",
    "\n",
    "usersWithExpensiveOrders = df_orders_us[df_orders_us['revenue'] > 900]['visitorid']\n",
    "\n",
    "abnormalUsers = pd.concat([usersWithManyOrders, usersWithExpensiveOrders], axis = 0).drop_duplicates().sort_values()\n",
    "\n",
    "# Displaying results\n",
    "print(abnormalUsers.head(5))\n",
    "print(abnormalUsers.shape)\n"
   ]
  },
  {
   "cell_type": "code",
   "execution_count": 47,
   "metadata": {},
   "outputs": [
    {
     "name": "stdout",
     "output_type": "stream",
     "text": [
      "P-value with filtered data: 0.014\n",
      "Statistical difference in the conversion rate with filtered data: 0.153\n"
     ]
    }
   ],
   "source": [
    "# Calculating the statistical significance of the differences in conversion between the two groups using a filter\n",
    "sampleAFiltered = pd.concat([ordersByUsersA[np.logical_not(ordersByUsersA['visitorid'].isin(abnormalUsers))]['transactionid'],pd.Series(0, index=np.arange(df_visits_us[df_visits_us['group']=='A']['visits'].sum() - len(ordersByUsersA['transactionid'])),name='transactionid')],axis=0)\n",
    "\n",
    "sampleBFiltered = pd.concat([ordersByUsersB[np.logical_not(ordersByUsersB['visitorid'].isin(abnormalUsers))]['transactionid'],pd.Series(0, index=np.arange(df_visits_us[df_visits_us['group']=='B']['visits'].sum() - len(ordersByUsersB['transactionid'])),name='transactionid')],axis=0)\n",
    "\n",
    "# Applying the Mann-Whitney statistical test\n",
    "print(\"P-value with filtered data: {0:.3f}\".format(stats.mannwhitneyu(sampleAFiltered, sampleBFiltered)[1]))\n",
    "print(\"Statistical difference in the conversion rate with filtered data: {0:.3f}\".format(sampleBFiltered.mean()/sampleAFiltered.mean()-1))"
   ]
  },
  {
   "cell_type": "markdown",
   "metadata": {},
   "source": [
    "Conclusion: The p-value is below 0.05, which means that the conversion between the groups is statistically significant. In other words, we have evidence to *reject* the null hypothesis that assumes the groups have equal conversion rates. Furthermore, the relative difference between the conversion rates indicates that group B had a 15.3% higher rate than group A."
   ]
  },
  {
   "cell_type": "markdown",
   "metadata": {},
   "source": [
    "12. **Find the statistical significance of the difference in average order size between the groups using the filtered data. Draw conclusions and make conjectures.**"
   ]
  },
  {
   "cell_type": "code",
   "execution_count": 48,
   "metadata": {},
   "outputs": [
    {
     "data": {
      "text/html": [
       "<div>\n",
       "<style scoped>\n",
       "    .dataframe tbody tr th:only-of-type {\n",
       "        vertical-align: middle;\n",
       "    }\n",
       "\n",
       "    .dataframe tbody tr th {\n",
       "        vertical-align: top;\n",
       "    }\n",
       "\n",
       "    .dataframe thead th {\n",
       "        text-align: right;\n",
       "    }\n",
       "</style>\n",
       "<table border=\"1\" class=\"dataframe\">\n",
       "  <thead>\n",
       "    <tr style=\"text-align: right;\">\n",
       "      <th></th>\n",
       "      <th>transactionid</th>\n",
       "      <th>visitorid</th>\n",
       "      <th>date</th>\n",
       "      <th>revenue</th>\n",
       "      <th>group</th>\n",
       "    </tr>\n",
       "  </thead>\n",
       "  <tbody>\n",
       "    <tr>\n",
       "      <th>0</th>\n",
       "      <td>3667963787</td>\n",
       "      <td>3312258926</td>\n",
       "      <td>2019-08-15</td>\n",
       "      <td>30.4</td>\n",
       "      <td>B</td>\n",
       "    </tr>\n",
       "  </tbody>\n",
       "</table>\n",
       "</div>"
      ],
      "text/plain": [
       "   transactionid   visitorid       date  revenue group\n",
       "0     3667963787  3312258926 2019-08-15     30.4     B"
      ]
     },
     "execution_count": 48,
     "metadata": {},
     "output_type": "execute_result"
    }
   ],
   "source": [
    "# Displaying df\n",
    "df_orders_us.head(1)"
   ]
  },
  {
   "cell_type": "code",
   "execution_count": 49,
   "metadata": {},
   "outputs": [
    {
     "name": "stdout",
     "output_type": "stream",
     "text": [
      "P-value with filtered data: 0.819\n",
      "Statistical difference in the conversion rate with filtered data:-0.006\n"
     ]
    }
   ],
   "source": [
    "# p-value (with filtered data)\n",
    "print('P-value with filtered data: {0:.3f}'.format(stats.mannwhitneyu(\n",
    "    df_orders_us[np.logical_and(\n",
    "        df_orders_us['group']=='A', np.logical_not(df_orders_us['visitorid'].isin(abnormalUsers)))]['revenue'],\n",
    "        df_orders_us[np.logical_and(\n",
    "            df_orders_us['group']=='B',np.logical_not(df_orders_us['visitorid'].isin(abnormalUsers)))]['revenue'])[1]))\n",
    "\n",
    "# Relative difference in average order size with filtered data\n",
    "print('Statistical difference in the conversion rate with filtered data:{0:.3f}'.format(\n",
    "    df_orders_us[np.logical_and(df_orders_us['group']=='B',np.logical_not(df_orders_us['visitorid'].isin(abnormalUsers)))]['revenue'].mean()/df_orders_us[np.logical_and(\n",
    "        df_orders_us['group']=='A',\n",
    "        np.logical_not(df_orders_us['visitorid'].isin(abnormalUsers)))]['revenue'].mean() - 1))"
   ]
  },
  {
   "cell_type": "markdown",
   "metadata": {},
   "source": [
    "**Conclusion**:\n",
    "The p-value greater than 0.05 indicates that there is *no* statistically significant difference in the average order size between groups A and B. This means that there is *not* enough evidence to reject the null hypothesis (that the average order sizes are equal between the groups).  \n",
    "The relative difference of -0.006 indicates that the average order size in group B is 0.6% smaller than in group A, but this difference is not significant between the groups."
   ]
  },
  {
   "cell_type": "markdown",
   "metadata": {},
   "source": [
    "13. **Make a decision based on the test results. The possible decisions are:** \n",
   ]
  },
  {
   "cell_type": "markdown",
   "metadata": {},
   "source": [
    "Based on the tests conducted, it is recommended to conclude the test, as group B outperformed group A in several aspects. Although the tests with raw and filtered data yielded numerically different values, some conclusions were consistent:\n",
    "\n",
    "- Both tests indicated evidence to reject the null hypothesis that assumes no statistically significant difference in conversion between the groups. The statistical difference in conversion rates was 13.8% with raw data and 15.3% with filtered data.\n",
    "- Both tests concluded that there is not enough evidence to reject the null hypothesis that the average order sizes are equal between the groups.\n",
    "\n",
    "However, the relative difference in average order sizes showed very discrepant results: with raw data, the difference was 25.2% in favor of group B, while with filtered data it was only 0.6% in favor of group A. This highlights how outlier values can significantly influence the results of the analysis. In conclusion, the ideal approach is to use filtered data to avoid conclusions based on distorted information."
   ]
  }
 ],
 "metadata": {
  "kernelspec": {
   "display_name": "Python 3",
   "language": "python",
   "name": "python3"
  },
  "language_info": {
   "codemirror_mode": {
    "name": "ipython",
    "version": 3
   },
   "file_extension": ".py",
   "mimetype": "text/x-python",
   "name": "python",
   "nbconvert_exporter": "python",
   "pygments_lexer": "ipython3",
   "version": "3.11.2"
  }
 },
 "nbformat": 4,
 "nbformat_minor": 2
}
