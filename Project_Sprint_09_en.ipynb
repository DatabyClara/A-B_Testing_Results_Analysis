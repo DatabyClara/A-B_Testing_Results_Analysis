{
 "cells": [
  {
   "cell_type": "markdown",
   "metadata": {},
   "source": [
    "# Case Study: Data-Driven Business Decisions\n",
    "The project's objective is to increase online store revenue by prioritizing hypotheses to improve website performance, followed by analyzing A/B test results to determine which strategies are most effective for revenue growth."
   ]
  },
  {
   "cell_type": "markdown",
   "metadata": {},
   "source": [
    "Index\n",
    "1. Data Dictionary\n",
    "2. Importing Data\n",
    "3. Data Preprocessing\n",
    "    - df_hypotheses_us\n",
    "        - Verifying Missing Values (None Found)\n",
    "        - Verifying Duplicates (None Found)\n",
    "    - df_orders_us\n",
    "        - Verifying Missing Values (None Found)\n",
    "        - Verifying Duplicates (None Found)\n",
    "    - df_visits_us\n",
    "        - Verifying Missing Values (None Found)\n",
    "        - Verifying Duplicates (None Found)\n",
    "4. Hypothesis Prioritization\n",
    "    - ICE Framework\n",
    "    - RICE Framework\n",
    "5. A/B Testing Results\n",
    "    1. Cumulative Revenue by Group Visualization\n",
    "    2. Average Cumulative Order Size by Group Visualization\n",
    "    3. Relative Difference in Average Cumulative Order Size\n",
    "    4. Conversion Rate Calculation (Orders-to-Visits Ratio & Daily Conversion Rates)\n",
    "    5. Relative Difference in Cumulative Conversion Between Groups A and B\n",
    "    6. 95th and 99th Percentiles of Orders per User & Anomaly Detection Threshold\n",
    "    7. Order Price Distribution (Scatter Plot)\n",
    "    8. 95th and 99th Percentiles of Order Prices & Anomaly Detection Threshold\n",
    "    9. Statistical Significance of Conversion Rate Difference (Raw Data)\n",
    "    10. Statistical Significance of Average Order Size Difference (Raw Data)\n",
    "    11. Statistical Significance of Conversion Rate Difference (Filtered Data)\n",
    "    12. Statistical Significance of Average Order Size Difference (Filtered Data)\n",
    "    13. Test Results and Decision Making\n"
   ]
  },
  {
   "cell_type": "markdown",
   "metadata": {},
   "source": [
    "Aqui está um chacklist que pode usar quando você estiver preparando relatórios no Jupyter Notebook:\n",
    "\n",
    "    Se você estiver enviando um arquivo ipynb, certifique-se de anexar os dados de origem.\n",
    "\n",
    "    Se estiver enviando um arquivo HTML, certifique-se de que todas as células estejam preenchidas corretamente para que apareçam as tabelas e o gráfico.\n",
    "\n",
    "    Especifique a finalidade do arquivo em uma célula markdown.\n",
    "\n",
    "    Marque os passos principais. Indique onde os dados são pré-processados, onde as questões são colocadas e onde as principais descobertas são apresentadas.\n",
    "\n",
    "    Insira um índice no início do arquivo.\n",
    "\n",
    "    Liste os principais resultados e constatações; isso ajudará os leitores a encontrar rapidamente as respostas para suas perguntas.\n",
    "    \n",
    "    Deixe comentários no código, certificando-se de indicar o significado e a função de cada variável."
   ]
  },
  {
   "cell_type": "markdown",
   "metadata": {},
   "source": [
    "### Data Dictionary:\n",
    "- **hypotheses_us**:\n",
    "  - **Hypotheses** — Brief descriptions of the hypotheses\n",
    "  - **Reach** — User reach, on a scale from 1 to 10\n",
    "  - **Impact** — Impact on users, on a scale from 1 to 10\n",
    "  - **Confidence** —  Confidence in the hypothesis, on a scale from 1 to 10\n",
    "  - **Effort** — Resources required to test a hypothesis, on a scale from 1 to 10. The higher the Effort value, the more resources are needed for the test\n",
    "  \n",
    "- **orders_us**:\n",
    "  - **transactionId** — Order identifier\n",
    "  - **visitorId** — Identifier of the user who placed the order\n",
    "  - **date** — Order date\n",
    "  - **revenue** — Revenue from the order\n",
    "  - **group** — The A/B test group to which the user belongs\n",
    "\n",
    "- **visits_us**:\n",
    "  - **date** — Date\n",
    "  - **group** —  A/B test group\n",
    "  - **visits** — Number of visits on the specified date for the specified A/B test group"
   ]
  },
  {
   "cell_type": "code",
   "execution_count": 1,
   "metadata": {},
   "outputs": [],
   "source": [
    "# Import libraries\n",
    "import pandas as pd\n",
    "import numpy as np\n",
    "import datetime as dt\n",
    "\n",
    "import matplotlib.pyplot as plt\n",
    "import seaborn as sns\n",
    "import scipy.stats as stats\n",
    "\n",
    "plt.style.use('seaborn-deep')"
   ]
  },
  {
   "cell_type": "code",
   "execution_count": 2,
   "metadata": {},
   "outputs": [],
   "source": [
    "# Defining the file path\n",
    "path = 'data\\\\'\n",
    "\n",
    "# Loading the 'hypotheses_us.csv' file into the DataFrame\n",
    "df_hypotheses_us = pd.read_csv(path + 'hypotheses_us.csv', sep=';')\n",
    "\n",
    "# Loading the 'orders_us.csv' file into the DataFrame\n",
    "df_orders_us = pd.read_csv(path + 'orders_us.csv')\n",
    "\n",
    "# Loading the 'visits_us.csv' file into the DataFrame\n",
    "df_visits_us = pd.read_csv(path + 'visits_us.csv')"
   ]
  },
  {
   "cell_type": "markdown",
   "metadata": {},
   "source": [
    "## 1. Data Cleaning and Preprocessing  \n",
    "In this step, each dataframe (df) will be reviewed individually to understand its structure. This includes verifying column names, checking for null values, identifying duplicates, and ensuring the correct data types for each dataframe."
   ]
  },
  {
   "cell_type": "markdown",
   "metadata": {},
   "source": [
    "#### df_hypotheses_us"
   ]
  },
  {
   "cell_type": "code",
   "execution_count": 3,
   "metadata": {},
   "outputs": [
    {
     "data": {
      "text/html": [
       "<div>\n",
       "<style scoped>\n",
       "    .dataframe tbody tr th:only-of-type {\n",
       "        vertical-align: middle;\n",
       "    }\n",
       "\n",
       "    .dataframe tbody tr th {\n",
       "        vertical-align: top;\n",
       "    }\n",
       "\n",
       "    .dataframe thead th {\n",
       "        text-align: right;\n",
       "    }\n",
       "</style>\n",
       "<table border=\"1\" class=\"dataframe\">\n",
       "  <thead>\n",
       "    <tr style=\"text-align: right;\">\n",
       "      <th></th>\n",
       "      <th>Hypothesis</th>\n",
       "      <th>Reach</th>\n",
       "      <th>Impact</th>\n",
       "      <th>Confidence</th>\n",
       "      <th>Effort</th>\n",
       "    </tr>\n",
       "  </thead>\n",
       "  <tbody>\n",
       "    <tr>\n",
       "      <th>0</th>\n",
       "      <td>Add two new channels for attracting traffic. T...</td>\n",
       "      <td>3</td>\n",
       "      <td>10</td>\n",
       "      <td>8</td>\n",
       "      <td>6</td>\n",
       "    </tr>\n",
       "    <tr>\n",
       "      <th>1</th>\n",
       "      <td>Launch your own delivery service. This will sh...</td>\n",
       "      <td>2</td>\n",
       "      <td>5</td>\n",
       "      <td>4</td>\n",
       "      <td>10</td>\n",
       "    </tr>\n",
       "    <tr>\n",
       "      <th>2</th>\n",
       "      <td>Add product recommendation blocks to the store...</td>\n",
       "      <td>8</td>\n",
       "      <td>3</td>\n",
       "      <td>7</td>\n",
       "      <td>3</td>\n",
       "    </tr>\n",
       "    <tr>\n",
       "      <th>3</th>\n",
       "      <td>Change the category structure. This will incre...</td>\n",
       "      <td>8</td>\n",
       "      <td>3</td>\n",
       "      <td>3</td>\n",
       "      <td>8</td>\n",
       "    </tr>\n",
       "    <tr>\n",
       "      <th>4</th>\n",
       "      <td>Change the background color on the main page. ...</td>\n",
       "      <td>3</td>\n",
       "      <td>1</td>\n",
       "      <td>1</td>\n",
       "      <td>1</td>\n",
       "    </tr>\n",
       "  </tbody>\n",
       "</table>\n",
       "</div>"
      ],
      "text/plain": [
       "                                          Hypothesis  Reach  Impact  \\\n",
       "0  Add two new channels for attracting traffic. T...      3      10   \n",
       "1  Launch your own delivery service. This will sh...      2       5   \n",
       "2  Add product recommendation blocks to the store...      8       3   \n",
       "3  Change the category structure. This will incre...      8       3   \n",
       "4  Change the background color on the main page. ...      3       1   \n",
       "\n",
       "   Confidence  Effort  \n",
       "0           8       6  \n",
       "1           4      10  \n",
       "2           7       3  \n",
       "3           3       8  \n",
       "4           1       1  "
      ]
     },
     "execution_count": 3,
     "metadata": {},
     "output_type": "execute_result"
    }
   ],
   "source": [
    "# Displaying the first 5 rows of the dataset to check if it loaded correctly\n",
    "df_hypotheses_us.head()"
   ]
  },
  {
   "cell_type": "code",
   "execution_count": 4,
   "metadata": {},
   "outputs": [
    {
     "name": "stdout",
     "output_type": "stream",
     "text": [
      "<class 'pandas.core.frame.DataFrame'>\n",
      "RangeIndex: 9 entries, 0 to 8\n",
      "Data columns (total 5 columns):\n",
      " #   Column      Non-Null Count  Dtype \n",
      "---  ------      --------------  ----- \n",
      " 0   Hypothesis  9 non-null      object\n",
      " 1   Reach       9 non-null      int64 \n",
      " 2   Impact      9 non-null      int64 \n",
      " 3   Confidence  9 non-null      int64 \n",
      " 4   Effort      9 non-null      int64 \n",
      "dtypes: int64(4), object(1)\n",
      "memory usage: 488.0+ bytes\n"
     ]
    }
   ],
   "source": [
    "# Displaying information about the DataFrame\n",
    "df_hypotheses_us.info()"
   ]
  },
  {
   "cell_type": "code",
   "execution_count": 5,
   "metadata": {},
   "outputs": [
    {
     "name": "stdout",
     "output_type": "stream",
     "text": [
      "<class 'pandas.core.frame.DataFrame'>\n",
      "RangeIndex: 9 entries, 0 to 8\n",
      "Data columns (total 5 columns):\n",
      " #   Column      Non-Null Count  Dtype \n",
      "---  ------      --------------  ----- \n",
      " 0   hypothesis  9 non-null      object\n",
      " 1   reach       9 non-null      int64 \n",
      " 2   impact      9 non-null      int64 \n",
      " 3   confidence  9 non-null      int64 \n",
      " 4   effort      9 non-null      int64 \n",
      "dtypes: int64(4), object(1)\n",
      "memory usage: 488.0+ bytes\n"
     ]
    }
   ],
   "source": [
    "# Standardizing column names\n",
    "df_hypotheses_us.columns = df_hypotheses_us.columns.str.strip().str.lower().str.replace(' ', '_')\n",
    "\n",
    "# Verifying changes\n",
    "df_hypotheses_us.info()"
   ]
  },
  {
   "cell_type": "code",
   "execution_count": 6,
   "metadata": {},
   "outputs": [
    {
     "name": "stdout",
     "output_type": "stream",
     "text": [
      "Duplicate rows: 0\n"
     ]
    }
   ],
   "source": [
    "# Checking for duplicate rows in df_orders_us\n",
    "print(\"Duplicate rows:\", df_hypotheses_us.duplicated().sum())"
   ]
  },
  {
   "cell_type": "markdown",
   "metadata": {},
   "source": [
    "**Conclusions**:\n",
    "- It was observed that the separators were not standardized. Therefore, the first step was to standardize them during the data loading stage. Next, column names were standardized to snake_case, with no missing or duplicate values found, and data types confirmed as correct."
   ]
  },
  {
   "cell_type": "markdown",
   "metadata": {},
   "source": [
    "#### df_orders_us"
   ]
  },
  {
   "cell_type": "code",
   "execution_count": 7,
   "metadata": {},
   "outputs": [
    {
     "data": {
      "text/html": [
       "<div>\n",
       "<style scoped>\n",
       "    .dataframe tbody tr th:only-of-type {\n",
       "        vertical-align: middle;\n",
       "    }\n",
       "\n",
       "    .dataframe tbody tr th {\n",
       "        vertical-align: top;\n",
       "    }\n",
       "\n",
       "    .dataframe thead th {\n",
       "        text-align: right;\n",
       "    }\n",
       "</style>\n",
       "<table border=\"1\" class=\"dataframe\">\n",
       "  <thead>\n",
       "    <tr style=\"text-align: right;\">\n",
       "      <th></th>\n",
       "      <th>transactionId</th>\n",
       "      <th>visitorId</th>\n",
       "      <th>date</th>\n",
       "      <th>revenue</th>\n",
       "      <th>group</th>\n",
       "    </tr>\n",
       "  </thead>\n",
       "  <tbody>\n",
       "    <tr>\n",
       "      <th>0</th>\n",
       "      <td>3667963787</td>\n",
       "      <td>3312258926</td>\n",
       "      <td>2019-08-15</td>\n",
       "      <td>30.4</td>\n",
       "      <td>B</td>\n",
       "    </tr>\n",
       "    <tr>\n",
       "      <th>1</th>\n",
       "      <td>2804400009</td>\n",
       "      <td>3642806036</td>\n",
       "      <td>2019-08-15</td>\n",
       "      <td>15.2</td>\n",
       "      <td>B</td>\n",
       "    </tr>\n",
       "    <tr>\n",
       "      <th>2</th>\n",
       "      <td>2961555356</td>\n",
       "      <td>4069496402</td>\n",
       "      <td>2019-08-15</td>\n",
       "      <td>10.2</td>\n",
       "      <td>A</td>\n",
       "    </tr>\n",
       "    <tr>\n",
       "      <th>3</th>\n",
       "      <td>3797467345</td>\n",
       "      <td>1196621759</td>\n",
       "      <td>2019-08-15</td>\n",
       "      <td>155.1</td>\n",
       "      <td>B</td>\n",
       "    </tr>\n",
       "    <tr>\n",
       "      <th>4</th>\n",
       "      <td>2282983706</td>\n",
       "      <td>2322279887</td>\n",
       "      <td>2019-08-15</td>\n",
       "      <td>40.5</td>\n",
       "      <td>B</td>\n",
       "    </tr>\n",
       "  </tbody>\n",
       "</table>\n",
       "</div>"
      ],
      "text/plain": [
       "   transactionId   visitorId        date  revenue group\n",
       "0     3667963787  3312258926  2019-08-15     30.4     B\n",
       "1     2804400009  3642806036  2019-08-15     15.2     B\n",
       "2     2961555356  4069496402  2019-08-15     10.2     A\n",
       "3     3797467345  1196621759  2019-08-15    155.1     B\n",
       "4     2282983706  2322279887  2019-08-15     40.5     B"
      ]
     },
     "execution_count": 7,
     "metadata": {},
     "output_type": "execute_result"
    }
   ],
   "source": [
    "# Printing the first rows of the DataFrame\n",
    "df_orders_us.head()"
   ]
  },
  {
   "cell_type": "code",
   "execution_count": 8,
   "metadata": {},
   "outputs": [
    {
     "name": "stdout",
     "output_type": "stream",
     "text": [
      "<class 'pandas.core.frame.DataFrame'>\n",
      "RangeIndex: 1197 entries, 0 to 1196\n",
      "Data columns (total 5 columns):\n",
      " #   Column         Non-Null Count  Dtype  \n",
      "---  ------         --------------  -----  \n",
      " 0   transactionId  1197 non-null   int64  \n",
      " 1   visitorId      1197 non-null   int64  \n",
      " 2   date           1197 non-null   object \n",
      " 3   revenue        1197 non-null   float64\n",
      " 4   group          1197 non-null   object \n",
      "dtypes: float64(1), int64(2), object(2)\n",
      "memory usage: 46.9+ KB\n"
     ]
    }
   ],
   "source": [
    "# Printing information about the DataFrame\n",
    "df_orders_us.info()"
   ]
  },
  {
   "cell_type": "code",
   "execution_count": 9,
   "metadata": {},
   "outputs": [
    {
     "name": "stdout",
     "output_type": "stream",
     "text": [
      "<class 'pandas.core.frame.DataFrame'>\n",
      "RangeIndex: 1197 entries, 0 to 1196\n",
      "Data columns (total 5 columns):\n",
      " #   Column         Non-Null Count  Dtype  \n",
      "---  ------         --------------  -----  \n",
      " 0   transactionid  1197 non-null   int64  \n",
      " 1   visitorid      1197 non-null   int64  \n",
      " 2   date           1197 non-null   object \n",
      " 3   revenue        1197 non-null   float64\n",
      " 4   group          1197 non-null   object \n",
      "dtypes: float64(1), int64(2), object(2)\n",
      "memory usage: 46.9+ KB\n"
     ]
    }
   ],
   "source": [
    "# Standardizing column names\n",
    "df_orders_us.columns = df_orders_us.columns.str.strip().str.lower().str.replace(' ', '_')\n",
    "\n",
    "# Verifying changes\n",
    "df_orders_us.info()"
   ]
  },
  {
   "cell_type": "code",
   "execution_count": 10,
   "metadata": {},
   "outputs": [
    {
     "name": "stdout",
     "output_type": "stream",
     "text": [
      "Duplicate rows: 0\n"
     ]
    }
   ],
   "source": [
    "# Checking for duplicate rows\n",
    "print(\"Duplicate rows:\", df_orders_us.duplicated().sum())"
   ]
  },
  {
   "cell_type": "code",
   "execution_count": 11,
   "metadata": {},
   "outputs": [
    {
     "name": "stdout",
     "output_type": "stream",
     "text": [
      "<class 'pandas.core.frame.DataFrame'>\n",
      "RangeIndex: 1197 entries, 0 to 1196\n",
      "Data columns (total 5 columns):\n",
      " #   Column         Non-Null Count  Dtype         \n",
      "---  ------         --------------  -----         \n",
      " 0   transactionid  1197 non-null   int64         \n",
      " 1   visitorid      1197 non-null   int64         \n",
      " 2   date           1197 non-null   datetime64[ns]\n",
      " 3   revenue        1197 non-null   float64       \n",
      " 4   group          1197 non-null   object        \n",
      "dtypes: datetime64[ns](1), float64(1), int64(2), object(1)\n",
      "memory usage: 46.9+ KB\n"
     ]
    }
   ],
   "source": [
    "# Converting 'date' column to datetime\n",
    "df_orders_us['date'] = df_orders_us['date'].map(lambda x: dt.datetime.strptime(x, '%Y-%m-%d'))\n",
    "\n",
    "# Verifying changes\n",
    "df_orders_us.info()"
   ]
  },
  {
   "cell_type": "markdown",
   "metadata": {},
   "source": [
    "**Conclusions**: \n",
    "- The first column name was not in the standard format, so all column names were standardized to snake_case. Additionally, no missing or duplicate values were found, and data types were correct, except for the 'date' column, which was converted to datetime."
   ]
  },
  {
   "cell_type": "markdown",
   "metadata": {},
   "source": [
    "#### df_visits_us"
   ]
  },
  {
   "cell_type": "code",
   "execution_count": 12,
   "metadata": {},
   "outputs": [
    {
     "data": {
      "text/html": [
       "<div>\n",
       "<style scoped>\n",
       "    .dataframe tbody tr th:only-of-type {\n",
       "        vertical-align: middle;\n",
       "    }\n",
       "\n",
       "    .dataframe tbody tr th {\n",
       "        vertical-align: top;\n",
       "    }\n",
       "\n",
       "    .dataframe thead th {\n",
       "        text-align: right;\n",
       "    }\n",
       "</style>\n",
       "<table border=\"1\" class=\"dataframe\">\n",
       "  <thead>\n",
       "    <tr style=\"text-align: right;\">\n",
       "      <th></th>\n",
       "      <th>date</th>\n",
       "      <th>group</th>\n",
       "      <th>visits</th>\n",
       "    </tr>\n",
       "  </thead>\n",
       "  <tbody>\n",
       "    <tr>\n",
       "      <th>0</th>\n",
       "      <td>2019-08-01</td>\n",
       "      <td>A</td>\n",
       "      <td>719</td>\n",
       "    </tr>\n",
       "    <tr>\n",
       "      <th>1</th>\n",
       "      <td>2019-08-02</td>\n",
       "      <td>A</td>\n",
       "      <td>619</td>\n",
       "    </tr>\n",
       "    <tr>\n",
       "      <th>2</th>\n",
       "      <td>2019-08-03</td>\n",
       "      <td>A</td>\n",
       "      <td>507</td>\n",
       "    </tr>\n",
       "    <tr>\n",
       "      <th>3</th>\n",
       "      <td>2019-08-04</td>\n",
       "      <td>A</td>\n",
       "      <td>717</td>\n",
       "    </tr>\n",
       "    <tr>\n",
       "      <th>4</th>\n",
       "      <td>2019-08-05</td>\n",
       "      <td>A</td>\n",
       "      <td>756</td>\n",
       "    </tr>\n",
       "  </tbody>\n",
       "</table>\n",
       "</div>"
      ],
      "text/plain": [
       "         date group  visits\n",
       "0  2019-08-01     A     719\n",
       "1  2019-08-02     A     619\n",
       "2  2019-08-03     A     507\n",
       "3  2019-08-04     A     717\n",
       "4  2019-08-05     A     756"
      ]
     },
     "execution_count": 12,
     "metadata": {},
     "output_type": "execute_result"
    }
   ],
   "source": [
    "# Printing the first rows of the DataFrame\n",
    "df_visits_us.head()"
   ]
  },
  {
   "cell_type": "code",
   "execution_count": 13,
   "metadata": {},
   "outputs": [
    {
     "name": "stdout",
     "output_type": "stream",
     "text": [
      "<class 'pandas.core.frame.DataFrame'>\n",
      "RangeIndex: 62 entries, 0 to 61\n",
      "Data columns (total 3 columns):\n",
      " #   Column  Non-Null Count  Dtype \n",
      "---  ------  --------------  ----- \n",
      " 0   date    62 non-null     object\n",
      " 1   group   62 non-null     object\n",
      " 2   visits  62 non-null     int64 \n",
      "dtypes: int64(1), object(2)\n",
      "memory usage: 1.6+ KB\n"
     ]
    }
   ],
   "source": [
    "# Printing information about the DataFrame\n",
    "df_visits_us.info()"
   ]
  },
  {
   "cell_type": "code",
   "execution_count": 14,
   "metadata": {},
   "outputs": [
    {
     "name": "stdout",
     "output_type": "stream",
     "text": [
      "Duplicate rows: 0\n"
     ]
    }
   ],
   "source": [
    "# Checking for duplicate rows\n",
    "print(\"Duplicate rows:\", df_orders_us.duplicated().sum())"
   ]
  },
  {
   "cell_type": "code",
   "execution_count": 15,
   "metadata": {},
   "outputs": [
    {
     "name": "stdout",
     "output_type": "stream",
     "text": [
      "<class 'pandas.core.frame.DataFrame'>\n",
      "RangeIndex: 62 entries, 0 to 61\n",
      "Data columns (total 3 columns):\n",
      " #   Column  Non-Null Count  Dtype         \n",
      "---  ------  --------------  -----         \n",
      " 0   date    62 non-null     datetime64[ns]\n",
      " 1   group   62 non-null     object        \n",
      " 2   visits  62 non-null     int64         \n",
      "dtypes: datetime64[ns](1), int64(1), object(1)\n",
      "memory usage: 1.6+ KB\n"
     ]
    }
   ],
   "source": [
    "# Converting 'date' column to datetime\n",
    "df_visits_us['date'] = df_visits_us['date'].map(lambda x: dt.datetime.strptime(x, '%Y-%m-%d'))\n",
    "\n",
    "# Verifying changes\n",
    "df_visits_us.info()"
   ]
  },
  {
   "cell_type": "markdown",
   "metadata": {},
   "source": [
    "**Conclusions**: \n",
    "- It was observed that the column names were already in the standard format. Additionally, no missing or duplicate values were found, and the data types appear to be correct, except for the 'date' column, which was converted to the datetime type."
   ]
  },
  {
   "cell_type": "markdown",
   "metadata": {},
   "source": [
    "## 2. Application of ICE and RICE Frameworks to Prioritizing Hypotheses\n",
    "To demonstrate my ability to apply different prioritization methods, I used both the ICE (Impact, Confidence, Effort) and RICE (Reach, Impact, Confidence, Effort) frameworks to prioritize hypotheses."
   ]
  },
  {
   "cell_type": "code",
   "execution_count": 16,
   "metadata": {},
   "outputs": [
    {
     "data": {
      "text/html": [
       "<div>\n",
       "<style scoped>\n",
       "    .dataframe tbody tr th:only-of-type {\n",
       "        vertical-align: middle;\n",
       "    }\n",
       "\n",
       "    .dataframe tbody tr th {\n",
       "        vertical-align: top;\n",
       "    }\n",
       "\n",
       "    .dataframe thead th {\n",
       "        text-align: right;\n",
       "    }\n",
       "</style>\n",
       "<table border=\"1\" class=\"dataframe\">\n",
       "  <thead>\n",
       "    <tr style=\"text-align: right;\">\n",
       "      <th></th>\n",
       "      <th>hypothesis</th>\n",
       "      <th>reach</th>\n",
       "      <th>impact</th>\n",
       "      <th>confidence</th>\n",
       "      <th>effort</th>\n",
       "    </tr>\n",
       "  </thead>\n",
       "  <tbody>\n",
       "    <tr>\n",
       "      <th>7</th>\n",
       "      <td>Add a subscription form to all the main pages....</td>\n",
       "      <td>10</td>\n",
       "      <td>7</td>\n",
       "      <td>8</td>\n",
       "      <td>5</td>\n",
       "    </tr>\n",
       "    <tr>\n",
       "      <th>0</th>\n",
       "      <td>Add two new channels for attracting traffic. T...</td>\n",
       "      <td>3</td>\n",
       "      <td>10</td>\n",
       "      <td>8</td>\n",
       "      <td>6</td>\n",
       "    </tr>\n",
       "    <tr>\n",
       "      <th>2</th>\n",
       "      <td>Add product recommendation blocks to the store...</td>\n",
       "      <td>8</td>\n",
       "      <td>3</td>\n",
       "      <td>7</td>\n",
       "      <td>3</td>\n",
       "    </tr>\n",
       "  </tbody>\n",
       "</table>\n",
       "</div>"
      ],
      "text/plain": [
       "                                          hypothesis  reach  impact  \\\n",
       "7  Add a subscription form to all the main pages....     10       7   \n",
       "0  Add two new channels for attracting traffic. T...      3      10   \n",
       "2  Add product recommendation blocks to the store...      8       3   \n",
       "\n",
       "   confidence  effort  \n",
       "7           8       5  \n",
       "0           8       6  \n",
       "2           7       3  "
      ]
     },
     "execution_count": 16,
     "metadata": {},
     "output_type": "execute_result"
    }
   ],
   "source": [
    "# Printing 03 rows of the DataFrame\n",
    "df_hypotheses_us.sample(3)"
   ]
  },
  {
   "cell_type": "markdown",
   "metadata": {},
   "source": [
    "1. **ICE Framework**:\n",
    "The ICE framework was applied first to quickly assess the potential impact, confidence, and effort of implementation for each hypothesis. Each hypothesis was scored based on these three factors. This gave a simple prioritization of hypotheses."
   ]
  },
  {
   "cell_type": "code",
   "execution_count": 17,
   "metadata": {},
   "outputs": [
    {
     "name": "stdout",
     "output_type": "stream",
     "text": [
      "                                          hypothesis    ICE\n",
      "8  Launch a promotion that gives users discounts ...  16.20\n",
      "0  Add two new channels for attracting traffic. T...  13.33\n",
      "7  Add a subscription form to all the main pages....  11.20\n",
      "6  Show banners with current offers and sales on ...   8.00\n",
      "2  Add product recommendation blocks to the store...   7.00\n",
      "1  Launch your own delivery service. This will sh...   2.00\n",
      "5  Add a customer review page. This will increase...   1.33\n",
      "3  Change the category structure. This will incre...   1.12\n",
      "4  Change the background color on the main page. ...   1.00\n"
     ]
    }
   ],
   "source": [
    "# Applying the ICE framework to prioritize hypotheses in descending order\n",
    "\n",
    "# Creating a new \"ICE\" column with the formula ICE \n",
    "df_hypotheses_us['ICE'] = ((df_hypotheses_us['impact'] * df_hypotheses_us['confidence']) / df_hypotheses_us['effort']).round(2)\n",
    "\n",
    "# Displaying the DataFrame with sorted hypotheses\n",
    "print(df_hypotheses_us[['hypothesis', 'ICE']].sort_values(by='ICE', ascending=False))"
   ]
  },
  {
   "cell_type": "markdown",
   "metadata": {},
   "source": [
    "2. **RICE Framework**:\n",
    "After applying ICE, I used the RICE framework for a more detailed analysis, adding Reach as additional criteria. The RICE score was calculated by considering the reach (number of people affected), impact, confidence, and effort required for implementation."
   ]
  },
  {
   "cell_type": "code",
   "execution_count": 18,
   "metadata": {},
   "outputs": [
    {
     "name": "stdout",
     "output_type": "stream",
     "text": [
      "                                          hypothesis   RICE\n",
      "7  Add a subscription form to all the main pages....  112.0\n",
      "2  Add product recommendation blocks to the store...   56.0\n",
      "0  Add two new channels for attracting traffic. T...   40.0\n",
      "6  Show banners with current offers and sales on ...   40.0\n",
      "8  Launch a promotion that gives users discounts ...   16.2\n",
      "3  Change the category structure. This will incre...    9.0\n",
      "1  Launch your own delivery service. This will sh...    4.0\n",
      "5  Add a customer review page. This will increase...    4.0\n",
      "4  Change the background color on the main page. ...    3.0\n"
     ]
    }
   ],
   "source": [
    "# Applying the ICE framework to prioritize hypotheses in descending order\n",
    "\n",
    "## Creating a new \"RICE\" column with the formula RICE\n",
    "df_hypotheses_us['RICE'] = (df_hypotheses_us['reach'] * df_hypotheses_us['impact'] * df_hypotheses_us['confidence']) / df_hypotheses_us['effort']\n",
    "\n",
    "# Displaying the DataFrame with sorted hypotheses\n",
    "print(df_hypotheses_us[['hypothesis', 'RICE']].sort_values(by = 'RICE', ascending= False))"
   ]
  },
  {
   "cell_type": "markdown",
   "metadata": {},
   "source": [
    "**Conclusion**:\n",
    "-  The values of both methods differ because they prioritize factors in different ways. ICE overlooks the factor of Reach, meaning it does not consider how many users will be affected by the hypothesis. In contrast, RICE takes Reach into account, giving higher priority to hypotheses that have the potential to affect a larger audience. This makes Hypothesis #7 more important in RICE due to its larger reach and greater effect on stakeholders."
   ]
  },
  {
   "cell_type": "markdown",
   "metadata": {},
   "source": [
    "## 3. A/B Test Analysis:\n",
    "In this section, we will analyze the A/B test results using the df_orders_us and df_visitors_us files. The analysis will focus on key metrics such as cumulative revenue, average order size, conversion rates, and statistical significance. Also, several visualizations will be created to better understand the differences between the control Group A and the test Group B."
   ]
  },
  {
   "cell_type": "code",
   "execution_count": 19,
   "metadata": {},
   "outputs": [
    {
     "data": {
      "text/html": [
       "<div>\n",
       "<style scoped>\n",
       "    .dataframe tbody tr th:only-of-type {\n",
       "        vertical-align: middle;\n",
       "    }\n",
       "\n",
       "    .dataframe tbody tr th {\n",
       "        vertical-align: top;\n",
       "    }\n",
       "\n",
       "    .dataframe thead th {\n",
       "        text-align: right;\n",
       "    }\n",
       "</style>\n",
       "<table border=\"1\" class=\"dataframe\">\n",
       "  <thead>\n",
       "    <tr style=\"text-align: right;\">\n",
       "      <th></th>\n",
       "      <th>date</th>\n",
       "      <th>group</th>\n",
       "      <th>visits</th>\n",
       "    </tr>\n",
       "  </thead>\n",
       "  <tbody>\n",
       "    <tr>\n",
       "      <th>22</th>\n",
       "      <td>2019-08-23</td>\n",
       "      <td>A</td>\n",
       "      <td>468</td>\n",
       "    </tr>\n",
       "    <tr>\n",
       "      <th>55</th>\n",
       "      <td>2019-08-25</td>\n",
       "      <td>B</td>\n",
       "      <td>679</td>\n",
       "    </tr>\n",
       "    <tr>\n",
       "      <th>1</th>\n",
       "      <td>2019-08-02</td>\n",
       "      <td>A</td>\n",
       "      <td>619</td>\n",
       "    </tr>\n",
       "  </tbody>\n",
       "</table>\n",
       "</div>"
      ],
      "text/plain": [
       "         date group  visits\n",
       "22 2019-08-23     A     468\n",
       "55 2019-08-25     B     679\n",
       "1  2019-08-02     A     619"
      ]
     },
     "execution_count": 19,
     "metadata": {},
     "output_type": "execute_result"
    }
   ],
   "source": [
    "# Displying 03 rows of the DataFrame\n",
    "df_visits_us.sample(3)"
   ]
  },
  {
   "cell_type": "code",
   "execution_count": 20,
   "metadata": {},
   "outputs": [
    {
     "data": {
      "text/html": [
       "<div>\n",
       "<style scoped>\n",
       "    .dataframe tbody tr th:only-of-type {\n",
       "        vertical-align: middle;\n",
       "    }\n",
       "\n",
       "    .dataframe tbody tr th {\n",
       "        vertical-align: top;\n",
       "    }\n",
       "\n",
       "    .dataframe thead th {\n",
       "        text-align: right;\n",
       "    }\n",
       "</style>\n",
       "<table border=\"1\" class=\"dataframe\">\n",
       "  <thead>\n",
       "    <tr style=\"text-align: right;\">\n",
       "      <th></th>\n",
       "      <th>transactionid</th>\n",
       "      <th>visitorid</th>\n",
       "      <th>date</th>\n",
       "      <th>revenue</th>\n",
       "      <th>group</th>\n",
       "    </tr>\n",
       "  </thead>\n",
       "  <tbody>\n",
       "    <tr>\n",
       "      <th>823</th>\n",
       "      <td>2971973105</td>\n",
       "      <td>199603092</td>\n",
       "      <td>2019-08-27</td>\n",
       "      <td>45.9</td>\n",
       "      <td>A</td>\n",
       "    </tr>\n",
       "    <tr>\n",
       "      <th>327</th>\n",
       "      <td>3909269888</td>\n",
       "      <td>1668030113</td>\n",
       "      <td>2019-08-28</td>\n",
       "      <td>80.0</td>\n",
       "      <td>B</td>\n",
       "    </tr>\n",
       "    <tr>\n",
       "      <th>137</th>\n",
       "      <td>1798931686</td>\n",
       "      <td>1211585711</td>\n",
       "      <td>2019-08-01</td>\n",
       "      <td>440.3</td>\n",
       "      <td>A</td>\n",
       "    </tr>\n",
       "  </tbody>\n",
       "</table>\n",
       "</div>"
      ],
      "text/plain": [
       "     transactionid   visitorid       date  revenue group\n",
       "823     2971973105   199603092 2019-08-27     45.9     A\n",
       "327     3909269888  1668030113 2019-08-28     80.0     B\n",
       "137     1798931686  1211585711 2019-08-01    440.3     A"
      ]
     },
     "execution_count": 20,
     "metadata": {},
     "output_type": "execute_result"
    }
   ],
   "source": [
    "# Displaying 03 rows of the DataFrame\n",
    "df_orders_us.sample(3)"
   ]
  },
  {
   "cell_type": "markdown",
   "metadata": {},
   "source": [
    "**1. Plot Cumulative Revenue per Group:** \n",
    "- The goal of this analysis is to observe how the cumulative revenue evolves for each group throughout the test period."
   ]
  },
  {
   "cell_type": "code",
   "execution_count": 21,
   "metadata": {},
   "outputs": [
    {
     "data": {
      "text/html": [
       "<div>\n",
       "<style scoped>\n",
       "    .dataframe tbody tr th:only-of-type {\n",
       "        vertical-align: middle;\n",
       "    }\n",
       "\n",
       "    .dataframe tbody tr th {\n",
       "        vertical-align: top;\n",
       "    }\n",
       "\n",
       "    .dataframe thead th {\n",
       "        text-align: right;\n",
       "    }\n",
       "</style>\n",
       "<table border=\"1\" class=\"dataframe\">\n",
       "  <thead>\n",
       "    <tr style=\"text-align: right;\">\n",
       "      <th></th>\n",
       "      <th>date</th>\n",
       "      <th>revenue</th>\n",
       "    </tr>\n",
       "  </thead>\n",
       "  <tbody>\n",
       "    <tr>\n",
       "      <th>0</th>\n",
       "      <td>2019-08-01</td>\n",
       "      <td>1620.0</td>\n",
       "    </tr>\n",
       "    <tr>\n",
       "      <th>1</th>\n",
       "      <td>2019-08-02</td>\n",
       "      <td>4243.8</td>\n",
       "    </tr>\n",
       "    <tr>\n",
       "      <th>2</th>\n",
       "      <td>2019-08-03</td>\n",
       "      <td>6050.6</td>\n",
       "    </tr>\n",
       "    <tr>\n",
       "      <th>3</th>\n",
       "      <td>2019-08-04</td>\n",
       "      <td>7767.9</td>\n",
       "    </tr>\n",
       "    <tr>\n",
       "      <th>4</th>\n",
       "      <td>2019-08-05</td>\n",
       "      <td>9262.9</td>\n",
       "    </tr>\n",
       "  </tbody>\n",
       "</table>\n",
       "</div>"
      ],
      "text/plain": [
       "        date  revenue\n",
       "0 2019-08-01   1620.0\n",
       "1 2019-08-02   4243.8\n",
       "2 2019-08-03   6050.6\n",
       "3 2019-08-04   7767.9\n",
       "4 2019-08-05   9262.9"
      ]
     },
     "execution_count": 21,
     "metadata": {},
     "output_type": "execute_result"
    }
   ],
   "source": [
    "# Calculating cumulative revenue per group using cumcum() which calculates the cumulative sum of the column\n",
    "# Cumulative revenue for Group A\n",
    "cumulativeRevenueA = df_orders_us[df_orders_us['group'] == 'A'].groupby('date').agg({'revenue': 'sum'}).cumsum().reset_index().sort_values('date')\n",
    "\n",
    "# Cumulative revenue for Group B\n",
    "cumulativeRevenueB = df_orders_us[df_orders_us['group'] == 'B'].groupby('date').agg({'revenue': 'sum'}).cumsum().reset_index().sort_values('date')\n",
    "\n",
    "# VerifDisplaying df\n",
    "cumulativeRevenueB.head()"
   ]
  },
  {
   "cell_type": "code",
   "execution_count": 26,
   "metadata": {},
   "outputs": [
    {
     "data": {
      "image/png": "[encoded data removed]",
      "text/plain": [
       "<Figure size 640x480 with 1 Axes>"
      ]
     },
     "metadata": {},
     "output_type": "display_data"
    }
   ],
   "source": [
    "# Plotting cumulative revenue graph for Groups A and B\n",
    "plt.plot(cumulativeRevenueA['date'], cumulativeRevenueA['revenue'], label='Group A')\n",
    "plt.plot(cumulativeRevenueB['date'], cumulativeRevenueB['revenue'], label='Group B')\n",
    "\n",
    "# Customizing the chart\n",
    "plt.title('Cumulative Revenue by Group')\n",
    "plt.xlabel('Date')\n",
    "plt.ylabel('Cumulative Revenuea')\n",
    "\n",
    "plt.legend()\n",
    "plt.grid(True)\n",
    "plt.xticks(rotation=45)  \n",
    "\n",
    "plt.show()"
   ]
  },
  {
   "cell_type": "markdown",
   "metadata": {},
   "source": [
    "**Conclusion**:\n",
    "- The cumulative revenue graph over the course of one year indicates that both groups showed growth, but with distinct patterns. During the first five days, the behaviors were similar, but Group B started to stand out in terms of growth after day 17, maintaining a higher performance than Group A until the end of the period.\n",
    "- Group A experienced steady and consistent growth, whereas Group B showed a rapid increase after day 17, followed by stabilization. This suggests that Group B's performance might have been influenced by specific events that boosted sales during that period."
   ]
  },
  {
   "cell_type": "markdown",
   "metadata": {},
   "source": [
    "**2. Plot Average Cumulative Order Size per Group:**\n",
    "- The goal is to observe how the average order size develops over time for each group"
   ]
  },
  {
   "cell_type": "code",
   "execution_count": 23,
   "metadata": {},
   "outputs": [
    {
     "data": {
      "text/html": [
       "<div>\n",
       "<style scoped>\n",
       "    .dataframe tbody tr th:only-of-type {\n",
       "        vertical-align: middle;\n",
       "    }\n",
       "\n",
       "    .dataframe tbody tr th {\n",
       "        vertical-align: top;\n",
       "    }\n",
       "\n",
       "    .dataframe thead th {\n",
       "        text-align: right;\n",
       "    }\n",
       "</style>\n",
       "<table border=\"1\" class=\"dataframe\">\n",
       "  <thead>\n",
       "    <tr style=\"text-align: right;\">\n",
       "      <th></th>\n",
       "      <th>date</th>\n",
       "      <th>revenue</th>\n",
       "      <th>transactionid</th>\n",
       "      <th>avg_order_size</th>\n",
       "    </tr>\n",
       "  </thead>\n",
       "  <tbody>\n",
       "    <tr>\n",
       "      <th>0</th>\n",
       "      <td>2019-08-01</td>\n",
       "      <td>1620.0</td>\n",
       "      <td>21</td>\n",
       "      <td>77.14</td>\n",
       "    </tr>\n",
       "    <tr>\n",
       "      <th>1</th>\n",
       "      <td>2019-08-02</td>\n",
       "      <td>4243.8</td>\n",
       "      <td>45</td>\n",
       "      <td>94.31</td>\n",
       "    </tr>\n",
       "    <tr>\n",
       "      <th>2</th>\n",
       "      <td>2019-08-03</td>\n",
       "      <td>6050.6</td>\n",
       "      <td>61</td>\n",
       "      <td>99.19</td>\n",
       "    </tr>\n",
       "    <tr>\n",
       "      <th>3</th>\n",
       "      <td>2019-08-04</td>\n",
       "      <td>7767.9</td>\n",
       "      <td>78</td>\n",
       "      <td>99.59</td>\n",
       "    </tr>\n",
       "    <tr>\n",
       "      <th>4</th>\n",
       "      <td>2019-08-05</td>\n",
       "      <td>9262.9</td>\n",
       "      <td>101</td>\n",
       "      <td>91.71</td>\n",
       "    </tr>\n",
       "  </tbody>\n",
       "</table>\n",
       "</div>"
      ],
      "text/plain": [
       "        date  revenue  transactionid  avg_order_size\n",
       "0 2019-08-01   1620.0             21           77.14\n",
       "1 2019-08-02   4243.8             45           94.31\n",
       "2 2019-08-03   6050.6             61           99.19\n",
       "3 2019-08-04   7767.9             78           99.59\n",
       "4 2019-08-05   9262.9            101           91.71"
      ]
     },
     "execution_count": 23,
     "metadata": {},
     "output_type": "execute_result"
    }
   ],
   "source": [
    "# Cumulative revenue and cumulative number of orders for Group A\n",
    "cumulativeDataA = (df_orders_us[df_orders_us['group'] == 'A'].groupby('date').agg({'revenue': 'sum', 'transactionid': 'count'}).cumsum().reset_index())\n",
    "\n",
    "# Obtaining the average order size (Group A)\n",
    "cumulativeDataA['avg_order_size'] = (cumulativeDataA['revenue'] / cumulativeDataA['transactionid']).round(2)\n",
    "\n",
    "# Cumulative revenue and cumulative number of orders for Group B\n",
    "cumulativeDataB = (df_orders_us[df_orders_us['group'] == 'B'].groupby('date').agg({'revenue': 'sum', 'transactionid': 'count'}).cumsum().reset_index())\n",
    "\n",
    "# Obtaining the average order size (Group B)\n",
    "cumulativeDataB['avg_order_size'] =( cumulativeDataB['revenue'] / cumulativeDataB['transactionid']).round(2)\n",
    "\n",
    "# Displaying new df\n",
    "cumulativeDataB.head()"
   ]
  },
  {
   "cell_type": "markdown",
   "metadata": {},
   "source": [
    "**Conclusion:**\n",
    "- The graph of the average cumulative order size revealed that Group B showed initial growth, with an exponential peak on day 17, followed by a slight decline, but maintaining an average higher than Group A for most of the period.\n",
    "\n",
    "- Group A experienced a decline in the first five days, followed by brief growth and stabilization until the end of the period."
   ]
  },
  {
   "cell_type": "markdown",
   "metadata": {},
   "source": [
    "3. **Plot Relative Difference in Average Cumulative Order Size:** \n",
    "- The goal is to visualize how the average cumulative order size for Group B differs from Group A as the test progresses."
   ]
  },
  {
   "cell_type": "code",
   "execution_count": 24,
   "metadata": {},
   "outputs": [
    {
     "data": {
      "text/plain": [
       "0   -21.446029\n",
       "1     7.500285\n",
       "2    18.847352\n",
       "3    22.617582\n",
       "4    13.460349\n",
       "Name: avg_order_size, dtype: float64"
      ]
     },
     "execution_count": 24,
     "metadata": {},
     "output_type": "execute_result"
    }
   ],
   "source": [
    "# Calculating the relative difference between the average order sizes of Group A and Group B\n",
    "relative_difference = ((cumulativeDataB['avg_order_size'] - cumulativeDataA['avg_order_size']) / cumulativeDataA['avg_order_size']) * 100\n",
    "\n",
    "# Displaying results\n",
    "relative_difference.head()"
   ]
  },
  {
   "cell_type": "code",
   "execution_count": 25,
   "metadata": {},
   "outputs": [
    {
     "data": {
      "image/png": "[encoded data removed]",
      "text/plain": [
       "<Figure size 640x480 with 1 Axes>"
      ]
     },
     "metadata": {},
     "output_type": "display_data"
    }
   ],
   "source": [
    "# Plotting the relative difference graph\n",
    "plt.plot(cumulativeDataA['date'], relative_difference, label='Relative Difference (B - A)')\n",
    "\n",
    "# Customizing the chart\n",
    "plt.title('Relative Difference in Cumulative Average Order Size (Group B vs Group A)')\n",
    "plt.xlabel('Date')\n",
    "plt.ylabel('Relative Difference(%)')\n",
    "\n",
    "# Customizing the chart\n",
    "plt.legend()\n",
    "plt.xticks(rotation=45)\n",
    "plt.grid(True)\n",
    "\n",
    "plt.show()"
   ]
  },
  {
   "cell_type": "markdown",
   "metadata": {},
   "source": [
    "**Conclusion:**\n",
    "- For most of the period, the value remained above 0%, indicating that Group B had a higher average cumulative order size than Group A. However, Group A performed better at the beginning and around day 13, when the graph showed that Group A's average cumulative order size surpassed that of Group B."
   ]
  },
  {
   "cell_type": "markdown",
   "metadata": {},
   "source": [
    "4. Calculate the Conversion Rate for Each Group as the Orders-to-Visits Ratio for Each Day. Plot the Daily Conversion Rates for Both Groups and Describe the Differences.\n",
    "- This analysis aims to assess how effectively each group converts website visits into orders. By calculating the conversion rate (orders divided by visits), we can compare the performance of both groups in terms of conversion efficiency over time."
   ]
  },
  {
   "cell_type": "code",
   "execution_count": 103,
   "metadata": {},
   "outputs": [
    {
     "data": {
      "text/html": [
       "<div>\n",
       "<style scoped>\n",
       "    .dataframe tbody tr th:only-of-type {\n",
       "        vertical-align: middle;\n",
       "    }\n",
       "\n",
       "    .dataframe tbody tr th {\n",
       "        vertical-align: top;\n",
       "    }\n",
       "\n",
       "    .dataframe thead th {\n",
       "        text-align: right;\n",
       "    }\n",
       "</style>\n",
       "<table border=\"1\" class=\"dataframe\">\n",
       "  <thead>\n",
       "    <tr style=\"text-align: right;\">\n",
       "      <th></th>\n",
       "      <th>date</th>\n",
       "      <th>group</th>\n",
       "      <th>transactionid</th>\n",
       "    </tr>\n",
       "  </thead>\n",
       "  <tbody>\n",
       "    <tr>\n",
       "      <th>0</th>\n",
       "      <td>2019-08-01</td>\n",
       "      <td>A</td>\n",
       "      <td>24</td>\n",
       "    </tr>\n",
       "    <tr>\n",
       "      <th>1</th>\n",
       "      <td>2019-08-01</td>\n",
       "      <td>B</td>\n",
       "      <td>21</td>\n",
       "    </tr>\n",
       "    <tr>\n",
       "      <th>2</th>\n",
       "      <td>2019-08-02</td>\n",
       "      <td>A</td>\n",
       "      <td>20</td>\n",
       "    </tr>\n",
       "  </tbody>\n",
       "</table>\n",
       "</div>"
      ],
      "text/plain": [
       "        date group  transactionid\n",
       "0 2019-08-01     A             24\n",
       "1 2019-08-01     B             21\n",
       "2 2019-08-02     A             20"
      ]
     },
     "execution_count": 103,
     "metadata": {},
     "output_type": "execute_result"
    }
   ],
   "source": [
    "# Counting the number of visits by grouping by day and group\n",
    "daily_visits = df_visits_us.groupby(['date', 'group']).agg({'visits': 'sum'}).reset_index()\n",
    "# Counting the number of orders by grouping by day and group\n",
    "daily_orders = df_orders_us.groupby(['date', 'group']).agg({'transactionid': 'count'}).reset_index()\n",
    "\n",
    "# displaying the new df\n",
    "daily_orders.head(3)"
   ]
  },
  {
   "cell_type": "code",
   "execution_count": 104,
   "metadata": {},
   "outputs": [
    {
     "name": "stdout",
     "output_type": "stream",
     "text": [
      "<class 'pandas.core.frame.DataFrame'>\n",
      "Int64Index: 62 entries, 0 to 61\n",
      "Data columns (total 4 columns):\n",
      " #   Column         Non-Null Count  Dtype         \n",
      "---  ------         --------------  -----         \n",
      " 0   date           62 non-null     datetime64[ns]\n",
      " 1   group          62 non-null     object        \n",
      " 2   visits         62 non-null     int64         \n",
      " 3   transactionid  62 non-null     int64         \n",
      "dtypes: datetime64[ns](1), int64(2), object(1)\n",
      "memory usage: 2.4+ KB\n"
     ]
    }
   ],
   "source": [
    "# Merging daily_visits and daily_orders\n",
    "conversion_data = pd.merge(daily_visits, daily_orders, on=['date', 'group'], how='left')\n",
    "\n",
    "# Checking the new df (for missing values and ensuring all columns are present)\n",
    "conversion_data.info()"
   ]
  },
  {
   "cell_type": "code",
   "execution_count": 105,
   "metadata": {},
   "outputs": [
    {
     "data": {
      "text/html": [
       "<div>\n",
       "<style scoped>\n",
       "    .dataframe tbody tr th:only-of-type {\n",
       "        vertical-align: middle;\n",
       "    }\n",
       "\n",
       "    .dataframe tbody tr th {\n",
       "        vertical-align: top;\n",
       "    }\n",
       "\n",
       "    .dataframe thead th {\n",
       "        text-align: right;\n",
       "    }\n",
       "</style>\n",
       "<table border=\"1\" class=\"dataframe\">\n",
       "  <thead>\n",
       "    <tr style=\"text-align: right;\">\n",
       "      <th></th>\n",
       "      <th>date</th>\n",
       "      <th>group</th>\n",
       "      <th>visits</th>\n",
       "      <th>transactionid</th>\n",
       "      <th>conversion_rate</th>\n",
       "    </tr>\n",
       "  </thead>\n",
       "  <tbody>\n",
       "    <tr>\n",
       "      <th>0</th>\n",
       "      <td>2019-08-01</td>\n",
       "      <td>A</td>\n",
       "      <td>719</td>\n",
       "      <td>24</td>\n",
       "      <td>3.34</td>\n",
       "    </tr>\n",
       "    <tr>\n",
       "      <th>1</th>\n",
       "      <td>2019-08-01</td>\n",
       "      <td>B</td>\n",
       "      <td>713</td>\n",
       "      <td>21</td>\n",
       "      <td>2.95</td>\n",
       "    </tr>\n",
       "    <tr>\n",
       "      <th>2</th>\n",
       "      <td>2019-08-02</td>\n",
       "      <td>A</td>\n",
       "      <td>619</td>\n",
       "      <td>20</td>\n",
       "      <td>3.23</td>\n",
       "    </tr>\n",
       "    <tr>\n",
       "      <th>3</th>\n",
       "      <td>2019-08-02</td>\n",
       "      <td>B</td>\n",
       "      <td>581</td>\n",
       "      <td>24</td>\n",
       "      <td>4.13</td>\n",
       "    </tr>\n",
       "    <tr>\n",
       "      <th>4</th>\n",
       "      <td>2019-08-03</td>\n",
       "      <td>A</td>\n",
       "      <td>507</td>\n",
       "      <td>24</td>\n",
       "      <td>4.73</td>\n",
       "    </tr>\n",
       "  </tbody>\n",
       "</table>\n",
       "</div>"
      ],
      "text/plain": [
       "        date group  visits  transactionid  conversion_rate\n",
       "0 2019-08-01     A     719             24             3.34\n",
       "1 2019-08-01     B     713             21             2.95\n",
       "2 2019-08-02     A     619             20             3.23\n",
       "3 2019-08-02     B     581             24             4.13\n",
       "4 2019-08-03     A     507             24             4.73"
      ]
     },
     "execution_count": 105,
     "metadata": {},
     "output_type": "execute_result"
    }
   ],
   "source": [
    "# Calculating the conversion rate\n",
    "conversion_data['conversion_rate'] = ((conversion_data['transactionid'] / conversion_data['visits']) * 100).round(2)\n",
    "conversion_data.head()"
   ]
  },
  {
   "cell_type": "code",
   "execution_count": 131,
   "metadata": {},
   "outputs": [
    {
     "data": {
      "image/png": "[encoded data removed]",
      "text/plain": [
       "<Figure size 640x480 with 1 Axes>"
      ]
     },
     "metadata": {},
     "output_type": "display_data"
    }
   ],
   "source": [
    "# Splitting Groups A and B\n",
    "conversion_A = conversion_data[conversion_data['group'] == 'A']\n",
    "conversion_B = conversion_data[conversion_data['group'] == 'B']\n",
    "\n",
    "# Plotting the conversion rates\n",
    "plt.plot(conversion_A['date'], conversion_A['conversion_rate'], label='Group A')\n",
    "plt.plot(conversion_B['date'], conversion_B['conversion_rate'], label='Group B')\n",
    "\n",
    "# Customizing the plot\n",
    "plt.title('Daily Conversion Rates by Group')\n",
    "plt.xlabel('Date')\n",
    "plt.ylabel('Conversion Rate (%)')\n",
    "\n",
    "plt.legend()\n",
    "plt.xticks(rotation=45)\n",
    "plt.grid(True)\n",
    "\n",
    "plt.show()\n"
   ]
  },
  {
   "cell_type": "markdown",
   "metadata": {},
   "source": [
    "**Conclusion**:\n",
    "- It was observed that there is no clear pattern between the two groups due to the high variation in the values of both. However, overall, we can note that Group A had a conversion rate ranging from 1.5% to 5.5%, while the values for Group B fluctuated between 1% and 6.5%."
   ]
  },
  {
   "cell_type": "markdown",
   "metadata": {},
   "source": [
    "5. Plot the Relative Difference in Cumulative Conversion Between Group B and Group A.\n",
    "- This analysis aims to compare the cumulative conversion performance of both groups over time. By plotting the relative difference, we can clearly see how Group B's conversion rate compares to Group A's, which may help identify which group is performing better in terms of converting visits into orders over the entire period."
   ]
  },
  {
   "cell_type": "code",
   "execution_count": 107,
   "metadata": {},
   "outputs": [
    {
     "name": "stdout",
     "output_type": "stream",
     "text": [
      "        date group  visits  cumulative_visits\n",
      "0 2019-08-01     A     719                719\n",
      "1 2019-08-01     B     713                713\n",
      "2 2019-08-02     A     619               1338\n",
      "\n",
      "        date group  transactionid  cumulative_orders\n",
      "0 2019-08-01     A             24                 24\n",
      "1 2019-08-01     B             21                 21\n",
      "2 2019-08-02     A             20                 44\n"
     ]
    }
   ],
   "source": [
    "# For cumulative visits\n",
    "cumulative_visits = df_visits_us.groupby(['date', 'group'], as_index=False).agg({'visits': 'sum'})\n",
    "cumulative_visits['cumulative_visits'] = cumulative_visits.groupby(['group'])['visits'].cumsum()\n",
    "\n",
    "# For cumulative orders\n",
    "cumulative_orders = df_orders_us.groupby(['date', 'group'], as_index=False).agg({'transactionid': 'count'})\n",
    "cumulative_orders['cumulative_orders'] = cumulative_orders.groupby(['group'])['transactionid'].cumsum()\n",
    "\n",
    "# Checking results\n",
    "print(cumulative_visits.head(3))\n",
    "print()\n",
    "print(cumulative_orders.head(3))\n"
   ]
  },
  {
   "cell_type": "code",
   "execution_count": 108,
   "metadata": {},
   "outputs": [
    {
     "data": {
      "text/html": [
       "<div>\n",
       "<style scoped>\n",
       "    .dataframe tbody tr th:only-of-type {\n",
       "        vertical-align: middle;\n",
       "    }\n",
       "\n",
       "    .dataframe tbody tr th {\n",
       "        vertical-align: top;\n",
       "    }\n",
       "\n",
       "    .dataframe thead th {\n",
       "        text-align: right;\n",
       "    }\n",
       "</style>\n",
       "<table border=\"1\" class=\"dataframe\">\n",
       "  <thead>\n",
       "    <tr style=\"text-align: right;\">\n",
       "      <th></th>\n",
       "      <th>date</th>\n",
       "      <th>group</th>\n",
       "      <th>visits</th>\n",
       "      <th>cumulative_visits</th>\n",
       "      <th>transactionid</th>\n",
       "      <th>cumulative_orders</th>\n",
       "    </tr>\n",
       "  </thead>\n",
       "  <tbody>\n",
       "    <tr>\n",
       "      <th>0</th>\n",
       "      <td>2019-08-01</td>\n",
       "      <td>A</td>\n",
       "      <td>719</td>\n",
       "      <td>719</td>\n",
       "      <td>24</td>\n",
       "      <td>24</td>\n",
       "    </tr>\n",
       "    <tr>\n",
       "      <th>1</th>\n",
       "      <td>2019-08-01</td>\n",
       "      <td>B</td>\n",
       "      <td>713</td>\n",
       "      <td>713</td>\n",
       "      <td>21</td>\n",
       "      <td>21</td>\n",
       "    </tr>\n",
       "    <tr>\n",
       "      <th>2</th>\n",
       "      <td>2019-08-02</td>\n",
       "      <td>A</td>\n",
       "      <td>619</td>\n",
       "      <td>1338</td>\n",
       "      <td>20</td>\n",
       "      <td>44</td>\n",
       "    </tr>\n",
       "  </tbody>\n",
       "</table>\n",
       "</div>"
      ],
      "text/plain": [
       "        date group  visits  cumulative_visits  transactionid  \\\n",
       "0 2019-08-01     A     719                719             24   \n",
       "1 2019-08-01     B     713                713             21   \n",
       "2 2019-08-02     A     619               1338             20   \n",
       "\n",
       "   cumulative_orders  \n",
       "0                 24  \n",
       "1                 21  \n",
       "2                 44  "
      ]
     },
     "execution_count": 108,
     "metadata": {},
     "output_type": "execute_result"
    }
   ],
   "source": [
    "# Merging the cumulative visits and orders data\n",
    "cumulative_data = pd.merge(cumulative_visits, cumulative_orders, on=['date', 'group'], how='left')\n",
    "\n",
    "# Displaying results\n",
    "cumulative_data.head(3)"
   ]
  },
  {
   "cell_type": "code",
   "execution_count": 109,
   "metadata": {},
   "outputs": [
    {
     "data": {
      "text/html": [
       "<div>\n",
       "<style scoped>\n",
       "    .dataframe tbody tr th:only-of-type {\n",
       "        vertical-align: middle;\n",
       "    }\n",
       "\n",
       "    .dataframe tbody tr th {\n",
       "        vertical-align: top;\n",
       "    }\n",
       "\n",
       "    .dataframe thead th {\n",
       "        text-align: right;\n",
       "    }\n",
       "</style>\n",
       "<table border=\"1\" class=\"dataframe\">\n",
       "  <thead>\n",
       "    <tr style=\"text-align: right;\">\n",
       "      <th></th>\n",
       "      <th>date</th>\n",
       "      <th>group</th>\n",
       "      <th>visits</th>\n",
       "      <th>cumulative_visits</th>\n",
       "      <th>transactionid</th>\n",
       "      <th>cumulative_orders</th>\n",
       "      <th>cumulative_conversion</th>\n",
       "    </tr>\n",
       "  </thead>\n",
       "  <tbody>\n",
       "    <tr>\n",
       "      <th>0</th>\n",
       "      <td>2019-08-01</td>\n",
       "      <td>A</td>\n",
       "      <td>719</td>\n",
       "      <td>719</td>\n",
       "      <td>24</td>\n",
       "      <td>24</td>\n",
       "      <td>3.34</td>\n",
       "    </tr>\n",
       "    <tr>\n",
       "      <th>1</th>\n",
       "      <td>2019-08-01</td>\n",
       "      <td>B</td>\n",
       "      <td>713</td>\n",
       "      <td>713</td>\n",
       "      <td>21</td>\n",
       "      <td>21</td>\n",
       "      <td>2.95</td>\n",
       "    </tr>\n",
       "    <tr>\n",
       "      <th>2</th>\n",
       "      <td>2019-08-02</td>\n",
       "      <td>A</td>\n",
       "      <td>619</td>\n",
       "      <td>1338</td>\n",
       "      <td>20</td>\n",
       "      <td>44</td>\n",
       "      <td>3.23</td>\n",
       "    </tr>\n",
       "  </tbody>\n",
       "</table>\n",
       "</div>"
      ],
      "text/plain": [
       "        date group  visits  cumulative_visits  transactionid  \\\n",
       "0 2019-08-01     A     719                719             24   \n",
       "1 2019-08-01     B     713                713             21   \n",
       "2 2019-08-02     A     619               1338             20   \n",
       "\n",
       "   cumulative_orders  cumulative_conversion  \n",
       "0                 24                   3.34  \n",
       "1                 21                   2.95  \n",
       "2                 44                   3.23  "
      ]
     },
     "execution_count": 109,
     "metadata": {},
     "output_type": "execute_result"
    }
   ],
   "source": [
    "# Calculating the cumulative conversion\n",
    "cumulative_data['cumulative_conversion'] = ((cumulative_data['transactionid'] / cumulative_data['visits']) * 100).round(2)\n",
    "\n",
    "# Displaying results\n",
    "cumulative_data.head(3)"
   ]
  },
  {
   "cell_type": "code",
   "execution_count": 110,
   "metadata": {},
   "outputs": [
    {
     "data": {
      "text/html": [
       "<div>\n",
       "<style scoped>\n",
       "    .dataframe tbody tr th:only-of-type {\n",
       "        vertical-align: middle;\n",
       "    }\n",
       "\n",
       "    .dataframe tbody tr th {\n",
       "        vertical-align: top;\n",
       "    }\n",
       "\n",
       "    .dataframe thead th {\n",
       "        text-align: right;\n",
       "    }\n",
       "</style>\n",
       "<table border=\"1\" class=\"dataframe\">\n",
       "  <thead>\n",
       "    <tr style=\"text-align: right;\">\n",
       "      <th></th>\n",
       "      <th>date</th>\n",
       "      <th>cumulative_conversion_A</th>\n",
       "      <th>cumulative_conversion_B</th>\n",
       "    </tr>\n",
       "  </thead>\n",
       "  <tbody>\n",
       "    <tr>\n",
       "      <th>0</th>\n",
       "      <td>2019-08-01</td>\n",
       "      <td>3.34</td>\n",
       "      <td>2.95</td>\n",
       "    </tr>\n",
       "    <tr>\n",
       "      <th>1</th>\n",
       "      <td>2019-08-02</td>\n",
       "      <td>3.23</td>\n",
       "      <td>4.13</td>\n",
       "    </tr>\n",
       "    <tr>\n",
       "      <th>2</th>\n",
       "      <td>2019-08-03</td>\n",
       "      <td>4.73</td>\n",
       "      <td>3.14</td>\n",
       "    </tr>\n",
       "  </tbody>\n",
       "</table>\n",
       "</div>"
      ],
      "text/plain": [
       "        date  cumulative_conversion_A  cumulative_conversion_B\n",
       "0 2019-08-01                     3.34                     2.95\n",
       "1 2019-08-02                     3.23                     4.13\n",
       "2 2019-08-03                     4.73                     3.14"
      ]
     },
     "execution_count": 110,
     "metadata": {},
     "output_type": "execute_result"
    }
   ],
   "source": [
    "# Selecting Groups A and B\n",
    "cumulative_A = cumulative_data[cumulative_data['group'] == 'A']\n",
    "cumulative_B = cumulative_data[cumulative_data['group'] == 'B']\n",
    "\n",
    "# Calculating the relative difference in cumulative conversion\n",
    "relative_difference = pd.merge(cumulative_A[['date', 'cumulative_conversion']],     cumulative_B[['date', 'cumulative_conversion']], on='date', suffixes=('_A', '_B'))\n",
    "\n",
    "# Displaying results\n",
    "relative_difference.head(3)"
   ]
  },
  {
   "cell_type": "code",
   "execution_count": 111,
   "metadata": {},
   "outputs": [
    {
     "data": {
      "text/html": [
       "<div>\n",
       "<style scoped>\n",
       "    .dataframe tbody tr th:only-of-type {\n",
       "        vertical-align: middle;\n",
       "    }\n",
       "\n",
       "    .dataframe tbody tr th {\n",
       "        vertical-align: top;\n",
       "    }\n",
       "\n",
       "    .dataframe thead th {\n",
       "        text-align: right;\n",
       "    }\n",
       "</style>\n",
       "<table border=\"1\" class=\"dataframe\">\n",
       "  <thead>\n",
       "    <tr style=\"text-align: right;\">\n",
       "      <th></th>\n",
       "      <th>date</th>\n",
       "      <th>cumulative_conversion_A</th>\n",
       "      <th>cumulative_conversion_B</th>\n",
       "      <th>relative_difference</th>\n",
       "    </tr>\n",
       "  </thead>\n",
       "  <tbody>\n",
       "    <tr>\n",
       "      <th>0</th>\n",
       "      <td>2019-08-01</td>\n",
       "      <td>3.34</td>\n",
       "      <td>2.95</td>\n",
       "      <td>-11.68</td>\n",
       "    </tr>\n",
       "    <tr>\n",
       "      <th>1</th>\n",
       "      <td>2019-08-02</td>\n",
       "      <td>3.23</td>\n",
       "      <td>4.13</td>\n",
       "      <td>27.86</td>\n",
       "    </tr>\n",
       "    <tr>\n",
       "      <th>2</th>\n",
       "      <td>2019-08-03</td>\n",
       "      <td>4.73</td>\n",
       "      <td>3.14</td>\n",
       "      <td>-33.62</td>\n",
       "    </tr>\n",
       "  </tbody>\n",
       "</table>\n",
       "</div>"
      ],
      "text/plain": [
       "        date  cumulative_conversion_A  cumulative_conversion_B  \\\n",
       "0 2019-08-01                     3.34                     2.95   \n",
       "1 2019-08-02                     3.23                     4.13   \n",
       "2 2019-08-03                     4.73                     3.14   \n",
       "\n",
       "   relative_difference  \n",
       "0               -11.68  \n",
       "1                27.86  \n",
       "2               -33.62  "
      ]
     },
     "execution_count": 111,
     "metadata": {},
     "output_type": "execute_result"
    }
   ],
   "source": [
    "# Plotting the chart # Calculating the relative difference\n",
    "relative_difference['relative_difference'] = (((relative_difference['cumulative_conversion_B'] - relative_difference['cumulative_conversion_A']) /relative_difference['cumulative_conversion_A']) * 100).round(2)\n",
    "\n",
    "# Displaying results\n",
    "relative_difference.head(3)"
   ]
  },
  {
   "cell_type": "code",
   "execution_count": 130,
   "metadata": {},
   "outputs": [
    {
     "data": {
      "image/png": "[encoded data removed]",
      "text/plain": [
       "<Figure size 1000x600 with 1 Axes>"
      ]
     },
     "metadata": {},
     "output_type": "display_data"
    }
   ],
   "source": [
    "# Plotting \n",
    "plt.figure(figsize=(10, 6))\n",
    "plt.plot(relative_difference['date'], relative_difference['relative_difference'], label='Relative Difference')\n",
    "\n",
    "# Customizing the plot\n",
    "plt.axhline(0, color='black', linestyle='--', linewidth=1)  # Linha de referência em 0%\n",
    "plt.title('Relative Difference in Cumulative Conversion (Group B vs Group A)')\n",
    "plt.xlabel('Date')\n",
    "plt.ylabel('Relative Difference (%)')\n",
    "\n",
    "plt.xticks(rotation=45)\n",
    "plt.legend()\n",
    "plt.grid(True)\n",
    "\n",
    "plt.show()"
   ]
  },
  {
   "cell_type": "markdown",
   "metadata": {},
   "source": [
    "**Conclusion:**:\n",
    "- Group B showed higher conversion than Group A until day 17, as indicated by the positive values. After that, there was significant fluctuation, suggesting changes in behavior or external factors affecting conversion. Towards the end of the period, Group B regained its upward trend. Investigating the reasons behind these fluctuations is key to identifying opportunities or strategies that could be replicated."
   ]
  },
  {
   "cell_type": "markdown",
   "metadata": {},
   "source": [
    "6. Calculate the 95th and 99th Percentiles for the Number of Orders Per User and Define the Point at Which a Data Point Becomes an Anomaly.\n",
    "- The goal is to calculate the 95th and 99th percentiles for the number of orders per user and identify the threshold for anomalies, helping to flag outliers or unusual user behavior for further analysis."
   ]
  },
  {
   "cell_type": "code",
   "execution_count": 113,
   "metadata": {},
   "outputs": [
    {
     "data": {
      "text/html": [
       "<div>\n",
       "<style scoped>\n",
       "    .dataframe tbody tr th:only-of-type {\n",
       "        vertical-align: middle;\n",
       "    }\n",
       "\n",
       "    .dataframe tbody tr th {\n",
       "        vertical-align: top;\n",
       "    }\n",
       "\n",
       "    .dataframe thead th {\n",
       "        text-align: right;\n",
       "    }\n",
       "</style>\n",
       "<table border=\"1\" class=\"dataframe\">\n",
       "  <thead>\n",
       "    <tr style=\"text-align: right;\">\n",
       "      <th></th>\n",
       "      <th>visitorid</th>\n",
       "      <th>orders_count</th>\n",
       "    </tr>\n",
       "  </thead>\n",
       "  <tbody>\n",
       "    <tr>\n",
       "      <th>0</th>\n",
       "      <td>5114589</td>\n",
       "      <td>1</td>\n",
       "    </tr>\n",
       "    <tr>\n",
       "      <th>1</th>\n",
       "      <td>6958315</td>\n",
       "      <td>1</td>\n",
       "    </tr>\n",
       "    <tr>\n",
       "      <th>2</th>\n",
       "      <td>8300375</td>\n",
       "      <td>2</td>\n",
       "    </tr>\n",
       "  </tbody>\n",
       "</table>\n",
       "</div>"
      ],
      "text/plain": [
       "   visitorid  orders_count\n",
       "0    5114589             1\n",
       "1    6958315             1\n",
       "2    8300375             2"
      ]
     },
     "execution_count": 113,
     "metadata": {},
     "output_type": "execute_result"
    }
   ],
   "source": [
    "# Counting the number of orders per user\n",
    "orders_per_user = df_orders_us.groupby('visitorid')['transactionid'].count().reset_index()\n",
    "orders_per_user.columns = ['visitorid', 'orders_count']\n",
    "\n",
    "# Displaying results\n",
    "orders_per_user.head(3)"
   ]
  },
  {
   "cell_type": "code",
   "execution_count": 129,
   "metadata": {},
   "outputs": [
    {
     "name": "stdout",
     "output_type": "stream",
     "text": [
      "The 95th percentile is 2.0 orders and the 99th percentile is 4.0 orders.\n"
     ]
    }
   ],
   "source": [
    "# Calculating the 95th and 99th Percentiles\n",
    "percentile = np.percentile(orders_per_user['orders_count'], [95, 99])\n",
    "\n",
    "# Displaying percentis\n",
    "print(f\"The 95th percentile is {percentile[0]} orders and the 99th percentile is {percentile[1]} orders.\")"
   ]
  },
  {
   "cell_type": "markdown",
   "metadata": {},
   "source": [
    "7. Create a Scatter Plot of Order Prices\n",
    "- The goal of this task is to create a scatter plot of order prices to visualize the distribution and relationship between order values. This will help identify any trends, clusters, or outliers in the data, providing insights into pricing patterns and highlighting potential anomalies or unusual price points."
   ]
  },
  {
   "cell_type": "code",
   "execution_count": null,
   "metadata": {},
   "outputs": [
    {
     "data": {
      "image/png": "[encoded data removed]",
      "text/plain": [
       "<Figure size 640x480 with 1 Axes>"
      ]
     },
     "metadata": {},
     "output_type": "display_data"
    }
   ],
   "source": [
    "x_values = pd.Series(range(0,len(orders_per_user)))\n",
    "\n",
    "# Plotting the Graph of Number of Orders per Customer\n",
    "plt.scatter(x_values, orders_per_user['orders_count'], alpha=0.6, label='Pedidos por Cliente')\n",
    "\n",
    "# Customizing the plot\n",
    "plt.title('Distribution of Number of Orders per Customer', fontsize=14)\n",
    "plt.xlabel('Clients', fontsize=12)\n",
    "plt.ylabel('Number of Orders', fontsize=12)\n",
    "\n",
    "plt.legend()\n",
    "plt.grid(alpha=0.3)\n",
    "plt.xticks(fontsize=10)\n",
    "plt.yticks(fontsize=10)\n",
    "\n",
    "plt.show()"
   ]
  },
  {
   "cell_type": "markdown",
   "metadata": {},
   "source": [
    "**Conclusion:**:\n",
    "- The graph and percentile calculations suggest that the point at which the data becomes anomalous occurs at the 99th percentile. Therefore, any customer with more than 4 orders can be considered anomalous."
   ]
  },
  {
   "cell_type": "markdown",
   "metadata": {},
   "source": [
    "8. Calculate the 95th and 99th Percentiles of Order Prices. Define the Point at Which a Data Point Becomes an Anomaly."
   ]
  },
  {
   "cell_type": "code",
   "execution_count": 116,
   "metadata": {},
   "outputs": [
    {
     "data": {
      "text/html": [
       "<div>\n",
       "<style scoped>\n",
       "    .dataframe tbody tr th:only-of-type {\n",
       "        vertical-align: middle;\n",
       "    }\n",
       "\n",
       "    .dataframe tbody tr th {\n",
       "        vertical-align: top;\n",
       "    }\n",
       "\n",
       "    .dataframe thead th {\n",
       "        text-align: right;\n",
       "    }\n",
       "</style>\n",
       "<table border=\"1\" class=\"dataframe\">\n",
       "  <thead>\n",
       "    <tr style=\"text-align: right;\">\n",
       "      <th></th>\n",
       "      <th>transactionid</th>\n",
       "      <th>visitorid</th>\n",
       "      <th>date</th>\n",
       "      <th>revenue</th>\n",
       "      <th>group</th>\n",
       "    </tr>\n",
       "  </thead>\n",
       "  <tbody>\n",
       "    <tr>\n",
       "      <th>0</th>\n",
       "      <td>3667963787</td>\n",
       "      <td>3312258926</td>\n",
       "      <td>2019-08-15</td>\n",
       "      <td>30.4</td>\n",
       "      <td>B</td>\n",
       "    </tr>\n",
       "    <tr>\n",
       "      <th>1</th>\n",
       "      <td>2804400009</td>\n",
       "      <td>3642806036</td>\n",
       "      <td>2019-08-15</td>\n",
       "      <td>15.2</td>\n",
       "      <td>B</td>\n",
       "    </tr>\n",
       "    <tr>\n",
       "      <th>2</th>\n",
       "      <td>2961555356</td>\n",
       "      <td>4069496402</td>\n",
       "      <td>2019-08-15</td>\n",
       "      <td>10.2</td>\n",
       "      <td>A</td>\n",
       "    </tr>\n",
       "  </tbody>\n",
       "</table>\n",
       "</div>"
      ],
      "text/plain": [
       "   transactionid   visitorid       date  revenue group\n",
       "0     3667963787  3312258926 2019-08-15     30.4     B\n",
       "1     2804400009  3642806036 2019-08-15     15.2     B\n",
       "2     2961555356  4069496402 2019-08-15     10.2     A"
      ]
     },
     "execution_count": 116,
     "metadata": {},
     "output_type": "execute_result"
    }
   ],
   "source": [
    "# Checking df\n",
    "df_orders_us.head(3)"
   ]
  },
  {
   "cell_type": "code",
   "execution_count": 128,
   "metadata": {},
   "outputs": [
    {
     "name": "stdout",
     "output_type": "stream",
     "text": [
      "The 95th percentile is 435.54 dollars and the 99th percentile is 900.9 dollars\n"
     ]
    }
   ],
   "source": [
    "#  Calculating the 95th and 99th Percentiles\n",
    "percentile = np.percentile(df_orders_us['revenue'], [95, 99])\n",
    "\n",
    "# Displaying the Percentiles\n",
    "print(f\"The 95th percentile is {percentile[0].round(2)} dollars and the 99th percentile is {(percentile[1]).round(2)} dollars\")"
   ]
  },
  {
   "cell_type": "code",
   "execution_count": 127,
   "metadata": {},
   "outputs": [
    {
     "data": {
      "image/png": "[encoded data removed]",
      "text/plain": [
       "<Figure size 640x480 with 1 Axes>"
      ]
     },
     "metadata": {},
     "output_type": "display_data"
    }
   ],
   "source": [
    "x_values = pd.Series(range(0,len(df_orders_us)))\n",
    "\n",
    "# Plotting the Graph of Number of Orders per Customer\n",
    "plt.scatter(x_values, df_orders_us['revenue'], alpha=0.6, label='Pedidos por Cliente')\n",
    "\n",
    "# Customizing the plot\n",
    "plt.title('Distribution of Number of Orders per Customer', fontsize=14)\n",
    "plt.xlabel('Customers', fontsize=12)\n",
    "plt.ylabel('Number of Orders', fontsize=12)\n",
    "\n",
    "plt.legend()\n",
    "plt.grid(alpha=0.3)\n",
    "plt.xticks(fontsize=10)\n",
    "plt.yticks(fontsize=10)\n",
    "\n",
    "\n",
    "plt.show()"
   ]
  },
  {
   "cell_type": "markdown",
   "metadata": {},
   "source": [
    "**Conclusion:** \n",
    "- The graph and the percentile calculations suggest that the point at which the data becomes anomalous is at the 99th percentile, as any customer who spends more than $900.00 per order would be considered anomalous."
   ]
  },
  {
   "cell_type": "markdown",
   "metadata": {},
   "source": [
    "9. Find the Statistical Significance of the Conversion Difference Between the Groups Using Raw Data.\n",
    "- The goal of this process is to determine whether there is a statistically significant difference in the conversion rates between Group A and Group B using raw data. By performing a hypothesis test, we aim to assess if the observed difference in conversion rates is likely due to random chance or reflects a true underlying difference in performance between the two groups."
   ]
  },
  {
   "cell_type": "code",
   "execution_count": 119,
   "metadata": {},
   "outputs": [
    {
     "data": {
      "text/html": [
       "<div>\n",
       "<style scoped>\n",
       "    .dataframe tbody tr th:only-of-type {\n",
       "        vertical-align: middle;\n",
       "    }\n",
       "\n",
       "    .dataframe tbody tr th {\n",
       "        vertical-align: top;\n",
       "    }\n",
       "\n",
       "    .dataframe thead th {\n",
       "        text-align: right;\n",
       "    }\n",
       "</style>\n",
       "<table border=\"1\" class=\"dataframe\">\n",
       "  <thead>\n",
       "    <tr style=\"text-align: right;\">\n",
       "      <th></th>\n",
       "      <th>visitorid</th>\n",
       "      <th>transactionid</th>\n",
       "    </tr>\n",
       "  </thead>\n",
       "  <tbody>\n",
       "    <tr>\n",
       "      <th>0</th>\n",
       "      <td>8300375</td>\n",
       "      <td>1</td>\n",
       "    </tr>\n",
       "    <tr>\n",
       "      <th>1</th>\n",
       "      <td>11685486</td>\n",
       "      <td>1</td>\n",
       "    </tr>\n",
       "    <tr>\n",
       "      <th>2</th>\n",
       "      <td>54447517</td>\n",
       "      <td>1</td>\n",
       "    </tr>\n",
       "  </tbody>\n",
       "</table>\n",
       "</div>"
      ],
      "text/plain": [
       "   visitorid  transactionid\n",
       "0    8300375              1\n",
       "1   11685486              1\n",
       "2   54447517              1"
      ]
     },
     "execution_count": 119,
     "metadata": {},
     "output_type": "execute_result"
    }
   ],
   "source": [
    "# Counting unique users who made a purchase in group A\n",
    "ordersByUsersA = (df_orders_us[df_orders_us['group'] == 'A'].groupby('visitorid', as_index=False).agg({'transactionid': pd.Series.nunique}))\n",
    "\n",
    "# Renaming columns\n",
    "ordersByUsersA.columns = ['visitorid', 'transactionid']\n",
    "\n",
    "# Counting unique users who made a purchase in group B\n",
    "ordersByUsersB = (df_orders_us[df_orders_us['group'] == 'B'].groupby('visitorid', as_index=False).agg({'transactionid': pd.Series.nunique}))\n",
    "\n",
    "# Renaming columns\n",
    "ordersByUsersB.columns = ['visitorid', 'transactionid']\n",
    "\n",
    "# Displaying results\n",
    "ordersByUsersA.head(3)"
   ]
  },
  {
   "cell_type": "code",
   "execution_count": null,
   "metadata": {},
   "outputs": [
    {
     "name": "stdout",
     "output_type": "stream",
     "text": [
      "P-value with raw data:0.017\n",
      "Statistical difference in the conversion rate with raw data:0.138\n"
     ]
    }
   ],
   "source": [
    "# Selecting the sample for group A\n",
    "sampleA = pd.concat([ordersByUsersA['transactionid'],pd.Series(0, index=np.arange(df_visits_us[df_visits_us['group'] == 'A']['visits'].sum() - len(ordersByUsersA)), name='transactionid')], axis=0)\n",
    "\n",
    "# Selecting the sample for group B\n",
    "sampleB = pd.concat([ordersByUsersB['transactionid'],pd.Series(0, index=np.arange(df_visits_us[df_visits_us['group'] == 'B']['visits'].sum() - len(ordersByUsersB)), name='transactionid')], axis=0)\n",
    "\n",
    "# Displaying results\n",
    "print(\"P-value with raw data: {0:.3f}\".format(stats.mannwhitneyu(sampleA, sampleB)[1]))\n",
    "\n",
    "print(\"Statistical difference in the conversion rate with raw data: {0:.3f}\".format(sampleB.mean()/sampleA.mean()-1))"
   ]
  },
  {
   "cell_type": "markdown",
   "metadata": {},
   "source": [
    "**Conclusion:**\n",
    "Based on the data, there is a statistically significant difference between the conversion rates of groups A and B. The first line of the result provides the p-value, 0.017, which is less than 0.05. Therefore, we can reject the null hypothesis, which assumes that there is a statistically significant difference in conversion between the groups. However, the relative gain of group B is 13.8% higher than that of group A."
   ]
  },
  {
   "cell_type": "markdown",
   "metadata": {},
   "source": [
    "10. Find the statistical significance of the difference in average order size between the groups using the raw data. Draw conclusions and make conjectures."
   ]
  },
  {
   "cell_type": "code",
   "execution_count": 121,
   "metadata": {},
   "outputs": [
    {
     "data": {
      "text/html": [
       "<div>\n",
       "<style scoped>\n",
       "    .dataframe tbody tr th:only-of-type {\n",
       "        vertical-align: middle;\n",
       "    }\n",
       "\n",
       "    .dataframe tbody tr th {\n",
       "        vertical-align: top;\n",
       "    }\n",
       "\n",
       "    .dataframe thead th {\n",
       "        text-align: right;\n",
       "    }\n",
       "</style>\n",
       "<table border=\"1\" class=\"dataframe\">\n",
       "  <thead>\n",
       "    <tr style=\"text-align: right;\">\n",
       "      <th></th>\n",
       "      <th>transactionid</th>\n",
       "      <th>visitorid</th>\n",
       "      <th>date</th>\n",
       "      <th>revenue</th>\n",
       "      <th>group</th>\n",
       "    </tr>\n",
       "  </thead>\n",
       "  <tbody>\n",
       "    <tr>\n",
       "      <th>0</th>\n",
       "      <td>3667963787</td>\n",
       "      <td>3312258926</td>\n",
       "      <td>2019-08-15</td>\n",
       "      <td>30.4</td>\n",
       "      <td>B</td>\n",
       "    </tr>\n",
       "    <tr>\n",
       "      <th>1</th>\n",
       "      <td>2804400009</td>\n",
       "      <td>3642806036</td>\n",
       "      <td>2019-08-15</td>\n",
       "      <td>15.2</td>\n",
       "      <td>B</td>\n",
       "    </tr>\n",
       "    <tr>\n",
       "      <th>2</th>\n",
       "      <td>2961555356</td>\n",
       "      <td>4069496402</td>\n",
       "      <td>2019-08-15</td>\n",
       "      <td>10.2</td>\n",
       "      <td>A</td>\n",
       "    </tr>\n",
       "    <tr>\n",
       "      <th>3</th>\n",
       "      <td>3797467345</td>\n",
       "      <td>1196621759</td>\n",
       "      <td>2019-08-15</td>\n",
       "      <td>155.1</td>\n",
       "      <td>B</td>\n",
       "    </tr>\n",
       "    <tr>\n",
       "      <th>4</th>\n",
       "      <td>2282983706</td>\n",
       "      <td>2322279887</td>\n",
       "      <td>2019-08-15</td>\n",
       "      <td>40.5</td>\n",
       "      <td>B</td>\n",
       "    </tr>\n",
       "  </tbody>\n",
       "</table>\n",
       "</div>"
      ],
      "text/plain": [
       "   transactionid   visitorid       date  revenue group\n",
       "0     3667963787  3312258926 2019-08-15     30.4     B\n",
       "1     2804400009  3642806036 2019-08-15     15.2     B\n",
       "2     2961555356  4069496402 2019-08-15     10.2     A\n",
       "3     3797467345  1196621759 2019-08-15    155.1     B\n",
       "4     2282983706  2322279887 2019-08-15     40.5     B"
      ]
     },
     "execution_count": 121,
     "metadata": {},
     "output_type": "execute_result"
    }
   ],
   "source": [
    "# Displaying df\n",
    "df_orders_us.head()"
   ]
  },
  {
   "cell_type": "code",
   "execution_count": 122,
   "metadata": {},
   "outputs": [
    {
     "name": "stdout",
     "output_type": "stream",
     "text": [
      "P-value with raw data0.692\n",
      "Statistical difference in the conversion rate with raw data: 0.252\n"
     ]
    }
   ],
   "source": [
    "print('P-value with raw data{0:.3f}'.format(stats.mannwhitneyu(df_orders_us[df_orders_us['group']=='A']['revenue'], df_orders_us[df_orders_us['group']=='B']['revenue'])[1]))\n",
    "\n",
    "print('Statistical difference in the conversion rate with raw data: {0:.3f}'.format(df_orders_us[df_orders_us['group']=='B']['revenue'].mean()/df_orders_us[df_orders_us['group']=='A']['revenue'].mean()-1))"
   ]
  },
  {
   "cell_type": "markdown",
   "metadata": {},
   "source": [
    "**Conclusion:**\n",
    "Using the raw data, we can observe that the p-value is considerably higher than 0.05, so we *cannot* reject the null hypothesis that there is no statistically significant difference in the average order size between the groups. Furthermore, the average order volume of group B is 25.2% higher than that of group A."
   ]
  },
  {
   "cell_type": "markdown",
   "metadata": {},
   "source": [
    "11. Find the statistical significance of the difference in conversion between the groups using the filtered data. Draw conclusions and make conjectures."
   ]
  },
  {
   "cell_type": "code",
   "execution_count": 123,
   "metadata": {},
   "outputs": [
    {
     "name": "stdout",
     "output_type": "stream",
     "text": [
      "1099     148427295\n",
      "949      887908475\n",
      "744      888512513\n",
      "1103    1164614297\n",
      "1136    1307669133\n",
      "Name: visitorid, dtype: int64\n",
      "(15,)\n"
     ]
    }
   ],
   "source": [
    "# Given the filtered data, the data without anomalies  \n",
    "# Anomaly defined as those with more than 4 orders or with an order greater than $900\n",
    "\n",
    "# Discovering the number of anomalous users\n",
    "usersWithManyOrders = pd.concat([ordersByUsersA[ordersByUsersA['transactionid'] > 4]['visitorid'], ordersByUsersB[ordersByUsersB['transactionid'] > 4]['visitorid']], axis = 0)\n",
    "\n",
    "usersWithExpensiveOrders = df_orders_us[df_orders_us['revenue'] > 900]['visitorid']\n",
    "\n",
    "abnormalUsers = pd.concat([usersWithManyOrders, usersWithExpensiveOrders], axis = 0).drop_duplicates().sort_values()\n",
    "\n",
    "# Displaying results\n",
    "print(abnormalUsers.head(5))\n",
    "print(abnormalUsers.shape)\n"
   ]
  },
  {
   "cell_type": "code",
   "execution_count": 124,
   "metadata": {},
   "outputs": [
    {
     "name": "stdout",
     "output_type": "stream",
     "text": [
      "P-value with filtered data: 0.014\n",
      "Statistical difference in the conversion rate with filtered data: 0.153\n"
     ]
    }
   ],
   "source": [
    "# Calculating the statistical significance of the differences in conversion between the two groups using a filter\n",
    "sampleAFiltered = pd.concat([ordersByUsersA[np.logical_not(ordersByUsersA['visitorid'].isin(abnormalUsers))]['transactionid'],pd.Series(0, index=np.arange(df_visits_us[df_visits_us['group']=='A']['visits'].sum() - len(ordersByUsersA['transactionid'])),name='transactionid')],axis=0)\n",
    "\n",
    "sampleBFiltered = pd.concat([ordersByUsersB[np.logical_not(ordersByUsersB['visitorid'].isin(abnormalUsers))]['transactionid'],pd.Series(0, index=np.arange(df_visits_us[df_visits_us['group']=='B']['visits'].sum() - len(ordersByUsersB['transactionid'])),name='transactionid')],axis=0)\n",
    "\n",
    "# Applying the Mann-Whitney statistical test\n",
    "print(\"P-value with filtered data: {0:.3f}\".format(stats.mannwhitneyu(sampleAFiltered, sampleBFiltered)[1]))\n",
    "print(\"Statistical difference in the conversion rate with filtered data: {0:.3f}\".format(sampleBFiltered.mean()/sampleAFiltered.mean()-1))"
   ]
  },
  {
   "cell_type": "markdown",
   "metadata": {},
   "source": [
    "Conclusion: The p-value is below 0.05, which means that the conversion between the groups is statistically significant. In other words, we have evidence to *reject* the null hypothesis that assumes the groups have equal conversion rates. Furthermore, the relative difference between the conversion rates indicates that group B had a 15.3% higher rate than group A."
   ]
  },
  {
   "cell_type": "markdown",
   "metadata": {},
   "source": [
    "12. Find the statistical significance of the difference in average order size between the groups using the filtered data. Draw conclusions and make conjectures."
   ]
  },
  {
   "cell_type": "code",
   "execution_count": 125,
   "metadata": {},
   "outputs": [
    {
     "data": {
      "text/html": [
       "<div>\n",
       "<style scoped>\n",
       "    .dataframe tbody tr th:only-of-type {\n",
       "        vertical-align: middle;\n",
       "    }\n",
       "\n",
       "    .dataframe tbody tr th {\n",
       "        vertical-align: top;\n",
       "    }\n",
       "\n",
       "    .dataframe thead th {\n",
       "        text-align: right;\n",
       "    }\n",
       "</style>\n",
       "<table border=\"1\" class=\"dataframe\">\n",
       "  <thead>\n",
       "    <tr style=\"text-align: right;\">\n",
       "      <th></th>\n",
       "      <th>transactionid</th>\n",
       "      <th>visitorid</th>\n",
       "      <th>date</th>\n",
       "      <th>revenue</th>\n",
       "      <th>group</th>\n",
       "    </tr>\n",
       "  </thead>\n",
       "  <tbody>\n",
       "    <tr>\n",
       "      <th>0</th>\n",
       "      <td>3667963787</td>\n",
       "      <td>3312258926</td>\n",
       "      <td>2019-08-15</td>\n",
       "      <td>30.4</td>\n",
       "      <td>B</td>\n",
       "    </tr>\n",
       "  </tbody>\n",
       "</table>\n",
       "</div>"
      ],
      "text/plain": [
       "   transactionid   visitorid       date  revenue group\n",
       "0     3667963787  3312258926 2019-08-15     30.4     B"
      ]
     },
     "execution_count": 125,
     "metadata": {},
     "output_type": "execute_result"
    }
   ],
   "source": [
    "# Displaying df\n",
    "df_orders_us.head(1)"
   ]
  },
  {
   "cell_type": "code",
   "execution_count": 126,
   "metadata": {},
   "outputs": [
    {
     "name": "stdout",
     "output_type": "stream",
     "text": [
      "P-value with filtered data: 0.819\n",
      "Statistical difference in the conversion rate with filtered data:-0.006\n"
     ]
    }
   ],
   "source": [
    "# p-value (with filtered data)\n",
    "print('P-value with filtered data: {0:.3f}'.format(stats.mannwhitneyu(\n",
    "    df_orders_us[np.logical_and(\n",
    "        df_orders_us['group']=='A', np.logical_not(df_orders_us['visitorid'].isin(abnormalUsers)))]['revenue'],\n",
    "        df_orders_us[np.logical_and(\n",
    "            df_orders_us['group']=='B',np.logical_not(df_orders_us['visitorid'].isin(abnormalUsers)))]['revenue'])[1]))\n",
    "\n",
    "# Relative difference in average order size with filtered data\n",
    "print('Statistical difference in the conversion rate with filtered data:{0:.3f}'.format(\n",
    "    df_orders_us[np.logical_and(df_orders_us['group']=='B',np.logical_not(df_orders_us['visitorid'].isin(abnormalUsers)))]['revenue'].mean()/df_orders_us[np.logical_and(\n",
    "        df_orders_us['group']=='A',\n",
    "        np.logical_not(df_orders_us['visitorid'].isin(abnormalUsers)))]['revenue'].mean() - 1))"
   ]
  },
  {
   "cell_type": "markdown",
   "metadata": {},
   "source": [
    "**Conclusion**:\n",
    "The p-value greater than 0.05 indicates that there is *no* statistically significant difference in the average order size between groups A and B. This means that there is *not* enough evidence to reject the null hypothesis (that the average order sizes are equal between the groups).  \n",
    "The relative difference of -0.006 indicates that the average order size in group B is 0.6% smaller than in group A, but this difference is not significant between the groups."
   ]
  },
  {
   "cell_type": "markdown",
   "metadata": {},
   "source": [
    "13. Make a decision based on the test results. The possible decisions are:  \n",
    "- Stop the test, consider one of the groups the leader.  \n",
    "-  Stop the test, conclude that there is no difference between the groups.  \n",
    "- Continue the test."
   ]
  },
  {
   "cell_type": "markdown",
   "metadata": {},
   "source": [
    "Based on the tests conducted, it is recommended to conclude the test, as group B outperformed group A in several aspects. Although the tests with raw and filtered data yielded numerically different values, some conclusions were consistent:\n",
    "\n",
    "- Both tests indicated evidence to reject the null hypothesis that assumes no statistically significant difference in conversion between the groups. The statistical difference in conversion rates was 13.8% with raw data and 15.3% with filtered data.\n",
    "- Both tests concluded that there is not enough evidence to reject the null hypothesis that the average order sizes are equal between the groups.\n",
    "\n",
    "However, the relative difference in average order sizes showed very discrepant results: with raw data, the difference was 25.2% in favor of group B, while with filtered data it was only 0.6% in favor of group A. This highlights how outlier values can significantly influence the results of the analysis. In conclusion, the ideal approach is to use filtered data to avoid conclusions based on distorted information."
   ]
  }
 ],
 "metadata": {
  "kernelspec": {
   "display_name": "base",
   "language": "python",
   "name": "python3"
  },
  "language_info": {
   "codemirror_mode": {
    "name": "ipython",
    "version": 3
   },
   "file_extension": ".py",
   "mimetype": "text/x-python",
   "name": "python",
   "nbconvert_exporter": "python",
   "pygments_lexer": "ipython3",
   "version": "3.9.13"
  }
 },
 "nbformat": 4,
 "nbformat_minor": 2
}
